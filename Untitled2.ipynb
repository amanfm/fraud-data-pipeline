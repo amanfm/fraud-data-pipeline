{
 "cells": [
  {
   "cell_type": "code",
   "execution_count": 1,
   "id": "862d2ff2-20e9-4518-aee6-152caa77e8e9",
   "metadata": {},
   "outputs": [
    {
     "ename": "SyntaxError",
     "evalue": "invalid syntax (2026851661.py, line 1)",
     "output_type": "error",
     "traceback": [
      "\u001b[0;36m  Cell \u001b[0;32mIn[1], line 1\u001b[0;36m\u001b[0m\n\u001b[0;31m    aws s3 ls s3://otg-fraud-dataml-prod/acm/daily/ --recursive\u001b[0m\n\u001b[0m        ^\u001b[0m\n\u001b[0;31mSyntaxError\u001b[0m\u001b[0;31m:\u001b[0m invalid syntax\n"
     ]
    }
   ],
   "source": [
    "aws s3 ls s3://otg-fraud-dataml-prod/acm/daily/ --recursive\n"
   ]
  },
  {
   "cell_type": "code",
   "execution_count": null,
   "id": "285e976f-c85b-42b0-b8a3-42bd1348ccc6",
   "metadata": {},
   "outputs": [],
   "source": []
  }
 ],
 "metadata": {
  "kernelspec": {
   "display_name": "Python 3 (ipykernel)",
   "language": "python",
   "name": "python3"
  },
  "language_info": {
   "codemirror_mode": {
    "name": "ipython",
    "version": 3
   },
   "file_extension": ".py",
   "mimetype": "text/x-python",
   "name": "python",
   "nbconvert_exporter": "python",
   "pygments_lexer": "ipython3",
   "version": "3.10.14"
  }
 },
 "nbformat": 4,
 "nbformat_minor": 5
}
