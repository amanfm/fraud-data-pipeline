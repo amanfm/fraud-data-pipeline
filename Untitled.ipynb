{
 "cells": [
  {
   "cell_type": "code",
   "execution_count": 1,
   "id": "9c5154b1-42d4-4fe7-99d6-d25c2f75ed48",
   "metadata": {},
   "outputs": [
    {
     "ename": "ModuleNotFoundError",
     "evalue": "No module named 'pandas'",
     "output_type": "error",
     "traceback": [
      "\u001b[0;31m---------------------------------------------------------------------------\u001b[0m",
      "\u001b[0;31mModuleNotFoundError\u001b[0m                       Traceback (most recent call last)",
      "Cell \u001b[0;32mIn[1], line 1\u001b[0m\n\u001b[0;32m----> 1\u001b[0m \u001b[38;5;28;01mimport\u001b[39;00m \u001b[38;5;21;01mpandas\u001b[39;00m \u001b[38;5;28;01mas\u001b[39;00m \u001b[38;5;21;01mpd\u001b[39;00m\n",
      "\u001b[0;31mModuleNotFoundError\u001b[0m: No module named 'pandas'"
     ]
    }
   ],
   "source": [
    "import pandas as pd"
   ]
  },
  {
   "cell_type": "code",
   "execution_count": 17,
   "id": "ba44b6e7-4522-4003-be43-106e36378134",
   "metadata": {},
   "outputs": [
    {
     "name": "stderr",
     "output_type": "stream",
     "text": [
      "<timed exec>:1: DtypeWarning: Columns (61) have mixed types. Specify dtype option on import or set low_memory=False.\n"
     ]
    },
    {
     "name": "stdout",
     "output_type": "stream",
     "text": [
      "CPU times: user 22.9 s, sys: 4.57 s, total: 27.4 s\n",
      "Wall time: 1min 25s\n"
     ]
    }
   ],
   "source": [
    "%%time\n",
    "df = pd.read_csv(\"s3://otg-fraud-dataml-prod/raw_views/v_order_details/year=2024/month=04/v_order_details_2024_04_000.csv\",sep=\"\\t\")"
   ]
  },
  {
   "cell_type": "code",
   "execution_count": 18,
   "id": "628c3563-64be-496f-ab29-8f9d766dfc11",
   "metadata": {},
   "outputs": [
    {
     "data": {
      "text/plain": [
       "employer_id\n",
       "1.0     8968\n",
       "2.0     7722\n",
       "8.0     5039\n",
       "7.0     1693\n",
       "3.0     1030\n",
       "5.0      221\n",
       "4.0      207\n",
       "10.0      31\n",
       "Name: count, dtype: int64"
      ]
     },
     "execution_count": 18,
     "metadata": {},
     "output_type": "execute_result"
    }
   ],
   "source": [
    "df.employer_id.value_counts()"
   ]
  },
  {
   "cell_type": "code",
   "execution_count": 25,
   "id": "6ab3d576-422e-4200-a3de-a5c341d09263",
   "metadata": {},
   "outputs": [
    {
     "data": {
      "text/plain": [
       "0.6920194550497608"
      ]
     },
     "execution_count": 25,
     "metadata": {},
     "output_type": "execute_result"
    }
   ],
   "source": [
    "df.cust_prof_id.isna().sum()/df.shape[0]"
   ]
  },
  {
   "cell_type": "code",
   "execution_count": null,
   "id": "fbc83d13-0139-40f6-9f83-9cfa0852a150",
   "metadata": {},
   "outputs": [],
   "source": []
  },
  {
   "cell_type": "code",
   "execution_count": null,
   "id": "134a39ff-6ed2-4ddb-b78a-d54f5f0ee279",
   "metadata": {},
   "outputs": [],
   "source": []
  },
  {
   "cell_type": "code",
   "execution_count": 27,
   "id": "95132d56-725d-4ecb-a6da-41d28aeb8e00",
   "metadata": {},
   "outputs": [
    {
     "data": {
      "text/plain": [
       "(2470721, 90)"
      ]
     },
     "execution_count": 27,
     "metadata": {},
     "output_type": "execute_result"
    }
   ],
   "source": [
    "df.shape"
   ]
  },
  {
   "cell_type": "code",
   "execution_count": 21,
   "id": "5a9fa068-1df8-4459-a755-1bd6661dddca",
   "metadata": {},
   "outputs": [
    {
     "data": {
      "text/plain": [
       "cust_prof_id\n",
       "1.489258e+08    60\n",
       "1.412802e+09    52\n",
       "1.433666e+08    43\n",
       "1.412885e+09    42\n",
       "1.412867e+09    40\n",
       "                ..\n",
       "1.413040e+09     1\n",
       "1.413040e+09     1\n",
       "1.442114e+08     1\n",
       "1.413040e+09     1\n",
       "1.413040e+09     1\n",
       "Name: count, Length: 610156, dtype: int64"
      ]
     },
     "execution_count": 21,
     "metadata": {},
     "output_type": "execute_result"
    }
   ],
   "source": [
    "df.cust_prof_id.value_counts()"
   ]
  },
  {
   "cell_type": "code",
   "execution_count": 4,
   "id": "51985348-0c9d-4cbd-94bb-02eb7a81a075",
   "metadata": {},
   "outputs": [
    {
     "name": "stdout",
     "output_type": "stream",
     "text": [
      "inside else\n",
      "end_date: 2024-11-26 00:00:00\n",
      "start_date: 2024-10-27 00:00:00\n",
      "end_date: 2024-11-26 00:00:00\n",
      "start_date: 2024-10-27 00:00:00\n"
     ]
    }
   ],
   "source": [
    "from datetime import datetime, timedelta\n",
    "\n",
    "# Simulate the value of end_date coming in as None or 'None'\n",
    "end_date = '2024-11-26'  # or 'None'\n",
    "\n",
    "if end_date in [None, 'None']:\n",
    "    print(\"inside if\")\n",
    "    # Default to the last 15 minutes if no custom dates are provided\n",
    "    end_date = datetime.now() - timedelta(days=1)  # A datetime object\n",
    "    start_date = end_date - timedelta(days=30)\n",
    "else:\n",
    "    print(\"inside else\")\n",
    "    \n",
    "    # Add a default timestamp if only a date is provided\n",
    "    if len(end_date) == 10:  # Check if format is 'YYYY-MM-DD'\n",
    "        end_date += \" 00:00:00.000000\"\n",
    "\n",
    "    # Parse the provided or updated end_date with a timestamp\n",
    "    end_date = datetime.strptime(end_date, '%Y-%m-%d %H:%M:%S.%f')\n",
    "\n",
    "    # Calculate start_date as 30 days before the provided end_date\n",
    "    start_date = end_date - timedelta(days=30)\n",
    "\n",
    "    # Print the results\n",
    "    print(f\"end_date: {end_date}\")\n",
    "    print(f\"start_date: {start_date}\")\n",
    "\n",
    "\n",
    "\n",
    "print(\"end_date:\", end_date)\n",
    "print(\"start_date:\", start_date)\n"
   ]
  },
  {
   "cell_type": "code",
   "execution_count": null,
   "id": "88ed8cad-8e96-40f6-a550-5bd281d2d9de",
   "metadata": {},
   "outputs": [],
   "source": []
  }
 ],
 "metadata": {
  "kernelspec": {
   "display_name": "Python 3 (ipykernel)",
   "language": "python",
   "name": "python3"
  },
  "language_info": {
   "codemirror_mode": {
    "name": "ipython",
    "version": 3
   },
   "file_extension": ".py",
   "mimetype": "text/x-python",
   "name": "python",
   "nbconvert_exporter": "python",
   "pygments_lexer": "ipython3",
   "version": "3.10.14"
  }
 },
 "nbformat": 4,
 "nbformat_minor": 5
}
