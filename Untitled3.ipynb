{
 "cells": [
  {
   "cell_type": "code",
   "execution_count": 2,
   "id": "c7c00507-85e3-4c6d-8273-ada441332c67",
   "metadata": {},
   "outputs": [],
   "source": [
    "import boto3\n",
    "import logging\n",
    "import warnings\n",
    "import pandas as pd\n",
    "from sys import stderr\n",
    "from datatype import dtypes_order_details, dtypes_payment_details, reduction_cds, card_types, data_cols,date_cols,dtypes_all\n",
    "\n",
    "# from shap_pipeline import FraudDetectionModel"
   ]
  },
  {
   "cell_type": "code",
   "execution_count": 23,
   "id": "d0213736-934c-4bf0-bd79-9e5e195265e7",
   "metadata": {},
   "outputs": [],
   "source": [
    "dtypes_all_notebook = {\n",
    "    # 'bus_date':'datetime64[ns]',\n",
    "    'pos_venue_id':'object',\n",
    "    'order_id':'object',\n",
    "    'transaction_id':'string',\n",
    "    'device_order_id':'object',\n",
    "    'time_zone':'object',\n",
    "    # 'order_local_time':'datetime64[ns]',\n",
    "    'sales_hr':'Int64',\n",
    "    # 'ord_beg_time':'datetime64[ns]',\n",
    "    # 'ord_close_time':'datetime64[ns]',\n",
    "    'item_count':'Int64',\n",
    "    'gross_total':'Float64',\n",
    "    'net_total':'Float64',\n",
    "    'taxes':'Float64',\n",
    "    'exclusive_tax':'Int8',\n",
    "    'inclusive_tax':'Int8',\n",
    "    'reduction_amt':'Float64',\n",
    "    'cust_prof_id':'string',\n",
    "    'mobile_ord_fl':'Int64',\n",
    "    'original_order_id':'string',\n",
    "    'vendor_loc_id':'string',\n",
    "    'fee_amt':'Float64',\n",
    "    'tip_amount':'Float64',\n",
    "    'sync_status':'string',\n",
    "    'src_sys_id':'object',\n",
    "    'vendor_id':'object',\n",
    "    'menu_vendor_id':'object',\n",
    "    'refund_vendor_id':'string',\n",
    "    'refund_venue_id':'string',\n",
    "    'pos_terminal_id':'string',\n",
    "    'reduction_cd':'string',\n",
    "    'active_fl':'object',\n",
    "    'order_tab_id':'string',\n",
    "    'order_status_cd':'string',\n",
    "    'united_account_id':'string',\n",
    "    'cust_first_name':'string',\n",
    "    'cust_last_name':'string',\n",
    "    # 'birth_date':'datetime64[ns]',\n",
    "    'activity_status_code':'string',\n",
    "    'employee_role_name':'string',\n",
    "    'cust_emply_verified_fl':'string',\n",
    "    'cust_emply_active_fl':'Int8',\n",
    "    'employer_id':'string',\n",
    "    'employer_name':'string',\n",
    "    'employer_active_fl':'Int8',\n",
    "    'default_email_address':'string',\n",
    "    'default_phone_number':'string',\n",
    "    'company_id':'string',\n",
    "    'primary_email_address':'string',\n",
    "    'primary_email_opt_in_fl':'Int8',\n",
    "    'primary_email_active_fl':'Int8',\n",
    "    'primary_email_verified_fl':'Int8',\n",
    "    'extra_ph_number':'Float64',\n",
    "    'card_type':'string',\n",
    "    'payment_type':'string',\n",
    "    'transaction_seq_nu':'Int64',\n",
    "    'cash_recycler_tiny_code':'string',\n",
    "    'payment_amount':'Float64',\n",
    "    'account_id':'string',\n",
    "    'payment_amt_rewards_poInts':'Int8',\n",
    "    'voucher_number':'string',\n",
    "    'emp_email':'string',\n",
    "}"
   ]
  },
  {
   "cell_type": "code",
   "execution_count": 10,
   "id": "1d3503f0-83d4-4c38-9930-97adb21db299",
   "metadata": {},
   "outputs": [],
   "source": [
    "dtypes_all_notebook = {\n",
    "    # 'bus_date':'datetime64[ns]',\n",
    "    'pos_venue_id':'object',\n",
    "    'order_id':'object',\n",
    "    'transaction_id':'string',\n",
    "    'device_order_id':'object',\n",
    "    'time_zone':'object',\n",
    "    # 'order_local_time':'datetime64[ns]',\n",
    "    'sales_hr':'Int64',\n",
    "    # 'ord_beg_time':'datetime64[ns]',\n",
    "    # 'ord_close_time':'datetime64[ns]',\n",
    "    'item_count':'Int64',\n",
    "    'gross_total':'Float64',\n",
    "    'net_total':'Float64',\n",
    "    'taxes':'Float64',\n",
    "    'exclusive_tax':'Int8',\n",
    "    'inclusive_tax':'Int8',\n",
    "    'reduction_amt':'Float64',\n",
    "    'cust_prof_id':'string',\n",
    "    'mobile_ord_fl':'Int64',\n",
    "    'original_order_id':'string',\n",
    "    'vendor_loc_id':'string',\n",
    "    'fee_amt':'Float64',\n",
    "    'tip_amount':'Float64',\n",
    "    'sync_status':'string',\n",
    "    'src_sys_id':'object',\n",
    "    'vendor_id':'object',\n",
    "    'menu_vendor_id':'object',\n",
    "    'refund_vendor_id':'string',\n",
    "    'refund_venue_id':'string',\n",
    "    'pos_terminal_id':'string',\n",
    "    'reduction_cd':'string',\n",
    "    'active_fl':'object',\n",
    "    'order_tab_id':'string',\n",
    "    'order_status_cd':'string',\n",
    "    'united_account_id':'string',\n",
    "    'cust_first_name':'string',\n",
    "    'cust_last_name':'string',\n",
    "    # 'birth_date':'datetime64[ns]',\n",
    "    'activity_status_code':'string',\n",
    "    'employee_role_name':'string',\n",
    "    'cust_emply_verified_fl':'string',\n",
    "    'cust_emply_active_fl':'Int8',\n",
    "    'employer_id':'string',\n",
    "    'employer_name':'string',\n",
    "    'employer_active_fl':'Int8',\n",
    "    'default_email_address':'string',\n",
    "    'default_phone_number':'string',\n",
    "    'company_id':'string',\n",
    "    'primary_email_address':'string',\n",
    "    'primary_email_opt_in_fl':'Int8',\n",
    "    'primary_email_active_fl':'Int8',\n",
    "    'primary_email_verified_fl':'Int8',\n",
    "    'extra_ph_number':'Float64',\n",
    "    'card_type':'string',\n",
    "    'payment_type':'string',\n",
    "    'transaction_seq_nu':'Int64',\n",
    "    'cash_recycler_tiny_code':'string',\n",
    "    'payment_amount':'Float64',\n",
    "    'account_id':'string',\n",
    "    'payment_amt_rewards_points':'Float64',\n",
    "    'voucher_number':'string',\n",
    "    'emp_email':'string',\n",
    "    'active_fl':'Int8'\n",
    "}"
   ]
  },
  {
   "cell_type": "code",
   "execution_count": 3,
   "id": "278abc14-c070-4581-bf0e-effb0e56a106",
   "metadata": {},
   "outputs": [],
   "source": [
    "s3 = boto3.client('s3')\n",
    "warnings.filterwarnings(\"ignore\")\n",
    "logging.basicConfig(stream=stderr, level=\"INFO\")"
   ]
  },
  {
   "cell_type": "code",
   "execution_count": 7,
   "id": "eee54df1-c540-44ac-b05e-1d05c5297463",
   "metadata": {
    "scrolled": true
   },
   "outputs": [],
   "source": [
    "result=pd.concat(\n",
    "    [\n",
    "        pd.read_csv(\n",
    "            \"s3://otg-fraud-dataml-prod/temporary/v_order_details/daily/year=2024/month=11/day=24/20241125082820_lacm_000.csv\",\n",
    "            dtype=dtypes_all,\n",
    "            parse_dates=date_cols,\n",
    "            sep='\\t',\n",
    "        ),\n",
    "        # pd.read_csv(\n",
    "        #     \"s3://otg-fraud-dataml-prod/raw_views/v_order_details/year=2024/month=10/v_order_details_2024_10_000.csv\",\n",
    "        #     # dtype=dtypes,\n",
    "        #     sep=SEP,\n",
    "        # ),\n",
    "    ]\n",
    ")"
   ]
  },
  {
   "cell_type": "code",
   "execution_count": 8,
   "id": "6e81de29",
   "metadata": {},
   "outputs": [
    {
     "data": {
      "text/plain": [
       "(80900, 90)"
      ]
     },
     "execution_count": 8,
     "metadata": {},
     "output_type": "execute_result"
    }
   ],
   "source": [
    "result.shape"
   ]
  },
  {
   "cell_type": "code",
   "execution_count": 11,
   "id": "bf53c2cc",
   "metadata": {},
   "outputs": [
    {
     "ename": "NameError",
     "evalue": "name 'dtypes_all_notebook' is not defined",
     "output_type": "error",
     "traceback": [
      "\u001b[0;31m---------------------------------------------------------------------------\u001b[0m",
      "\u001b[0;31mNameError\u001b[0m                                 Traceback (most recent call last)",
      "Cell \u001b[0;32mIn[11], line 1\u001b[0m\n\u001b[0;32m----> 1\u001b[0m \u001b[38;5;28mset\u001b[39m(dtypes_all)\u001b[38;5;241m-\u001b[39m\u001b[38;5;28mset\u001b[39m(\u001b[43mdtypes_all_notebook\u001b[49m)\n",
      "\u001b[0;31mNameError\u001b[0m: name 'dtypes_all_notebook' is not defined"
     ]
    }
   ],
   "source": [
    "set(dtypes_all)-set(dtypes_all_notebook)"
   ]
  },
  {
   "cell_type": "code",
   "execution_count": 4,
   "id": "e5cb81c2-1285-4010-8c68-14519a3912de",
   "metadata": {},
   "outputs": [
    {
     "name": "stderr",
     "output_type": "stream",
     "text": [
      "INFO:aiobotocore.credentials:Found credentials from IAM Role: fraud-nodegroup-role\n"
     ]
    }
   ],
   "source": [
    "result=pd.concat(\n",
    "    [\n",
    "        pd.read_csv(\n",
    "            \"s3://otg-fraud-dataml-prod/acm/daily/temporary/year=2024/month=11/day=27/20241128124021_acm_output.csv\",\n",
    "            # dtype=dtypes_all_notebook,\n",
    "            # parse_dates=['bus_date'],\n",
    "            sep=',',\n",
    "        ),\n",
    "        # pd.read_csv(\n",
    "        #     \"s3://otg-fraud-dataml-prod/raw_views/v_order_details/year=2024/month=10/v_order_details_2024_10_000.csv\",\n",
    "        #     # dtype=dtypes,\n",
    "        #     sep=SEP,\n",
    "        # ),\n",
    "    ]\n",
    ")"
   ]
  },
  {
   "cell_type": "code",
   "execution_count": 5,
   "id": "177a890d-5661-4518-bd23-b2a4be7ba3bb",
   "metadata": {},
   "outputs": [],
   "source": [
    "result=pd.concat(\n",
    "    [\n",
    "        pd.read_csv(\n",
    "            \"s3://otg-fraud-dataml-prod/acm/concat/temporary/year=2024/month=11/day=27/20241127104336_acm_output.csv\",\n",
    "            # dtype=dtypes_payment_details,\n",
    "            # parse_dates=['bus_date'],\n",
    "            sep=',',\n",
    "        ),\n",
    "        # pd.read_csv(\n",
    "        #     \"s3://otg-fraud-dataml-prod/raw_views/v_order_details/year=2024/month=10/v_order_details_2024_10_000.csv\",\n",
    "        #     # dtype=dtypes,\n",
    "        #     sep=SEP,\n",
    "        # ),\n",
    "    ]\n",
    ")"
   ]
  },
  {
   "cell_type": "code",
   "execution_count": 9,
   "id": "ab11a1da-a8eb-42cd-8b22-dbffdbb55fb8",
   "metadata": {},
   "outputs": [
    {
     "data": {
      "text/plain": [
       "(141, 131)"
      ]
     },
     "execution_count": 9,
     "metadata": {},
     "output_type": "execute_result"
    }
   ],
   "source": [
    "result.shape"
   ]
  },
  {
   "cell_type": "code",
   "execution_count": 10,
   "id": "fbb16a9f-a238-4197-902b-46043f8a3920",
   "metadata": {},
   "outputs": [
    {
     "name": "stdout",
     "output_type": "stream",
     "text": [
      "bus_date\n",
      "2024-11-26    141\n",
      "dtype: int64\n"
     ]
    }
   ],
   "source": [
    "# Group by 'bus_date' and count the number of rows\n",
    "row_count = result.groupby(\"bus_date\").size()\n",
    "\n",
    "# Display the result\n",
    "print(row_count)\n"
   ]
  },
  {
   "cell_type": "code",
   "execution_count": 6,
   "id": "499e231f-40a1-4b85-b357-152a443d18f3",
   "metadata": {},
   "outputs": [
    {
     "data": {
      "text/plain": [
       "(90847, 62)"
      ]
     },
     "execution_count": 6,
     "metadata": {},
     "output_type": "execute_result"
    }
   ],
   "source": [
    "result.shape"
   ]
  },
  {
   "cell_type": "code",
   "execution_count": 9,
   "id": "7f64ace5-9ad7-491b-8dae-5a9b8fbda3ab",
   "metadata": {},
   "outputs": [],
   "source": [
    "sample=result.head(10)"
   ]
  },
  {
   "cell_type": "code",
   "execution_count": 11,
   "id": "90a3093e-226c-405c-8aba-babbd5257f42",
   "metadata": {},
   "outputs": [
    {
     "data": {
      "text/plain": [
       "(10, 131)"
      ]
     },
     "execution_count": 11,
     "metadata": {},
     "output_type": "execute_result"
    }
   ],
   "source": [
    "sample.shape"
   ]
  },
  {
   "cell_type": "code",
   "execution_count": 12,
   "id": "2714d2c6-6cf0-42dd-8bb7-1dc32ab0e913",
   "metadata": {},
   "outputs": [],
   "source": [
    "sample.to_csv(\n",
    "    \"s3://otg-fraud-dataml-prod/sample/sample_output.csv\",  # Example S3 path\n",
    "    index=False,  # Don't write row indices\n",
    "    sep=',',      # Ensure the correct separator (if needed)\n",
    ")\n"
   ]
  },
  {
   "cell_type": "code",
   "execution_count": 21,
   "id": "96d1a755-ebe5-4ee1-a5db-ecb3781b7f30",
   "metadata": {},
   "outputs": [],
   "source": [
    "from datetime import datetime,timedelta"
   ]
  },
  {
   "cell_type": "code",
   "execution_count": 20,
   "id": "6025eab5-8677-4c81-8e29-d0412587f071",
   "metadata": {},
   "outputs": [],
   "source": [
    "s3_bucket = 'otg-fraud-dataml-prod'\n",
    "s3_prefix = 'acm/daily/temporary'"
   ]
  },
  {
   "cell_type": "code",
   "execution_count": 23,
   "id": "9efd4798-c81f-46c7-81af-283dfa7f3ee4",
   "metadata": {},
   "outputs": [
    {
     "name": "stdout",
     "output_type": "stream",
     "text": [
      "acm/daily/temporary/year=2024/month=09/day=29/\n",
      "acm/daily/temporary/year=2024/month=09/day=30/\n",
      "acm/daily/temporary/year=2024/month=10/day=1/\n",
      "acm/daily/temporary/year=2024/month=10/day=2/\n",
      "acm/daily/temporary/year=2024/month=10/day=3/\n",
      "acm/daily/temporary/year=2024/month=10/day=4/\n",
      "acm/daily/temporary/year=2024/month=10/day=5/\n",
      "acm/daily/temporary/year=2024/month=10/day=6/\n",
      "acm/daily/temporary/year=2024/month=10/day=7/\n",
      "acm/daily/temporary/year=2024/month=10/day=8/\n",
      "acm/daily/temporary/year=2024/month=10/day=9/\n",
      "acm/daily/temporary/year=2024/month=10/day=10/\n",
      "acm/daily/temporary/year=2024/month=10/day=11/\n",
      "acm/daily/temporary/year=2024/month=10/day=12/\n",
      "acm/daily/temporary/year=2024/month=10/day=13/\n",
      "acm/daily/temporary/year=2024/month=10/day=14/\n",
      "acm/daily/temporary/year=2024/month=10/day=15/\n",
      "acm/daily/temporary/year=2024/month=10/day=16/\n",
      "acm/daily/temporary/year=2024/month=10/day=17/\n",
      "acm/daily/temporary/year=2024/month=10/day=18/\n",
      "acm/daily/temporary/year=2024/month=10/day=19/\n",
      "acm/daily/temporary/year=2024/month=10/day=20/\n",
      "acm/daily/temporary/year=2024/month=10/day=21/\n",
      "acm/daily/temporary/year=2024/month=10/day=22/\n",
      "acm/daily/temporary/year=2024/month=10/day=23/\n",
      "acm/daily/temporary/year=2024/month=10/day=24/\n",
      "acm/daily/temporary/year=2024/month=10/day=25/\n",
      "acm/daily/temporary/year=2024/month=10/day=26/\n",
      "acm/daily/temporary/year=2024/month=10/day=27/\n",
      "acm/daily/temporary/year=2024/month=10/day=28/\n",
      "acm/daily/temporary/year=2024/month=10/day=29/\n",
      "Files found for the last 30 days: ['s3://otg-fraud-dataml-prod/acm/daily/temporary/year=2024/month=10/day=24/20241024153755_acm_output.csv', 's3://otg-fraud-dataml-prod/acm/daily/temporary/year=2024/month=10/day=28/20241028091322_acm_output.csv', 's3://otg-fraud-dataml-prod/acm/daily/temporary/year=2024/month=10/day=29/20241029110856_acm_output.csv']\n"
     ]
    }
   ],
   "source": [
    "end_date = datetime(2024, 10, 29)  \n",
    "# end_date='2024-11-17 07:53:01.716069'\n",
    "s3_bucket = 'otg-fraud-dataml-prod'\n",
    "s3_prefix = 'acm/daily/temporary'\n",
    "# end_date='2024-11-17' \n",
    "# Retrieve file paths\n",
    "file_paths = list_files_in_last_30_days(end_date)\n",
    "print(\"Files found for the last 30 days:\", file_paths)\n",
    "\n",
    "# Load and concatenate data"
   ]
  },
  {
   "cell_type": "code",
   "execution_count": 17,
   "id": "6c10796e-1a32-408e-90d7-14d24be00b57",
   "metadata": {},
   "outputs": [],
   "source": [
    "def list_files_in_last_30_days(end_date):\n",
    "    \"\"\"Retrieve the latest .csv file path for each day in the last 30 days from the end_date.\"\"\"\n",
    "    file_paths = []\n",
    "    # end_date= datetime.strptime(end_date, '%Y-%m-%d %H:%M:%S.%f')\n",
    "    current_date = end_date - timedelta(days=30)  # Set to 30 days; adjust if needed\n",
    "\n",
    "    # Loop from the start of the 30-day range up to the end_date\n",
    "    while current_date <= end_date:\n",
    "        year, month, day = current_date.year, current_date.month, current_date.day\n",
    "        date_prefix = f\"{s3_prefix}/year={year}/month={str(month).zfill(2)}/day={str(day)}/\"\n",
    "        print(date_prefix)\n",
    "        \n",
    "        # Fetch all files within the current date prefix\n",
    "        response = s3.list_objects_v2(Bucket=s3_bucket, Prefix=date_prefix)\n",
    "        \n",
    "        if 'Contents' in response:\n",
    "            # Filter to include only .csv files\n",
    "            csv_files = [obj for obj in response['Contents'] if obj['Key'].endswith('.csv')]\n",
    "            \n",
    "            if csv_files:\n",
    "                # Sort .csv files by LastModified timestamp (descending) to get the latest one first\n",
    "                sorted_csv_files = sorted(csv_files, key=lambda obj: obj['LastModified'], reverse=True)\n",
    "                \n",
    "                # Get the path of the latest .csv file\n",
    "                latest_csv_file_path = f\"s3://{s3_bucket}/{sorted_csv_files[0]['Key']}\"\n",
    "                file_paths.append(latest_csv_file_path)\n",
    "        \n",
    "        current_date += timedelta(days=1)\n",
    "    \n",
    "    return file_paths"
   ]
  },
  {
   "cell_type": "code",
   "execution_count": 34,
   "id": "4f16ca89-9161-47bc-a642-f4a34016763e",
   "metadata": {},
   "outputs": [],
   "source": [
    "from datetime import datetime\n",
    "def load_and_concat_files(end_date):\n",
    "    \"\"\"Load CSV files from S3 and concatenate them into a single DataFrame.\"\"\"\n",
    "    dataframes = []\n",
    "    # Set the S3 parameters and end_date\n",
    "    s3_bucket = 'otg-fraud-dataml-prod'\n",
    "    s3_prefix = 'acm/daily/temporary'\n",
    "    # Convert to datetime object using the full format\n",
    "        # Convert to datetime object using the full format\n",
    "    end_date = datetime.strptime(end_date, '%Y-%m-%d %H:%M:%S')\n",
    "    # Retrieve file paths\n",
    "    file_paths = list_files_in_last_30_days(end_date)\n",
    "\n",
    "    for file_path in file_paths:\n",
    "        # Read CSV from S3\n",
    "        df = pd.read_csv(file_path)\n",
    "        \n",
    "        # Append to the list of DataFrames\n",
    "        dataframes.append(df)\n",
    "    \n",
    "    # Concatenate all data into a single DataFrame\n",
    "    if dataframes is not None:\n",
    "        combined_df = pd.concat(dataframes, ignore_index=True)\n",
    "        # Get the current date and time components\n",
    "        now = datetime.now()\n",
    "        curr_year = now.year\n",
    "        curr_month = now.month\n",
    "        curr_day = now.day\n",
    "\n",
    "\n",
    "        # Generate a timestamp_global for the file name\n",
    "        timestamp_global = now.strftime('%Y%m%d%H%M%S')  # Format: YYYYMMDDHHMMSS\n",
    "        s3_path = (f's3://otg-fraud-dataml-prod/acm/concat/temporary/year={curr_year}/month={curr_month}/day={curr_day}/{timestamp_global}_acm_output.csv')\n",
    "\n",
    "        # Save results to S3\n",
    "        save_to_s3(combined_df, s3_path)\n",
    "    \n",
    "    print(\"concat data processing complete\")\n",
    "    return s3_path"
   ]
  },
  {
   "cell_type": "code",
   "execution_count": 23,
   "id": "cc97b3f3-7ada-4b7e-9bb0-87f2a1212f1e",
   "metadata": {},
   "outputs": [
    {
     "name": "stdout",
     "output_type": "stream",
     "text": [
      "end_date 2024-11-26 00:00:00\n"
     ]
    }
   ],
   "source": [
    "end_date='2024-11-26'\n",
    "end_date = datetime.strptime(end_date, '%Y-%m-%d').strftime('%Y-%m-%d')\n",
    "end_date=datetime.strptime(end_date, '%Y-%m-%d')\n",
    "\n",
    "start_date = end_date - timedelta(days=30)\n",
    "\n",
    "# start_date = (end_date - timedelta(days=30)).strftime('%Y-%m-%d')\n",
    "# end_date = end_date.strftime('%Y-%m-%d')\n",
    "   \n",
    "print(\"end_date\",end_date)"
   ]
  },
  {
   "cell_type": "code",
   "execution_count": 54,
   "id": "e82c52d1-cd92-49c4-832c-94f240c630d0",
   "metadata": {},
   "outputs": [],
   "source": [
    "s3_bucket = 'otg-fraud-dataml-prod'\n",
    "s3_prefix = 'acm/daily/temporary'"
   ]
  },
  {
   "cell_type": "code",
   "execution_count": 33,
   "id": "e827fea4-768c-4bf0-a291-4e6644a05ee4",
   "metadata": {},
   "outputs": [
    {
     "ename": "ValueError",
     "evalue": "unconverted data remains: .716069",
     "output_type": "error",
     "traceback": [
      "\u001b[0;31m---------------------------------------------------------------------------\u001b[0m",
      "\u001b[0;31mValueError\u001b[0m                                Traceback (most recent call last)",
      "Cell \u001b[0;32mIn[33], line 2\u001b[0m\n\u001b[1;32m      1\u001b[0m end_date\u001b[38;5;241m=\u001b[39m\u001b[38;5;124m'\u001b[39m\u001b[38;5;124m2024-11-17 07:53:01.716069\u001b[39m\u001b[38;5;124m'\u001b[39m\n\u001b[0;32m----> 2\u001b[0m combined_df \u001b[38;5;241m=\u001b[39m \u001b[43mload_and_concat_files\u001b[49m\u001b[43m(\u001b[49m\u001b[43mend_date\u001b[49m\u001b[43m)\u001b[49m\n",
      "Cell \u001b[0;32mIn[32], line 10\u001b[0m, in \u001b[0;36mload_and_concat_files\u001b[0;34m(end_date)\u001b[0m\n\u001b[1;32m      7\u001b[0m s3_prefix \u001b[38;5;241m=\u001b[39m \u001b[38;5;124m'\u001b[39m\u001b[38;5;124macm/daily/temporary\u001b[39m\u001b[38;5;124m'\u001b[39m\n\u001b[1;32m      8\u001b[0m \u001b[38;5;66;03m# Convert to datetime object using the full format\u001b[39;00m\n\u001b[1;32m      9\u001b[0m     \u001b[38;5;66;03m# Convert to datetime object using the full format\u001b[39;00m\n\u001b[0;32m---> 10\u001b[0m end_date \u001b[38;5;241m=\u001b[39m \u001b[43mdatetime\u001b[49m\u001b[38;5;241;43m.\u001b[39;49m\u001b[43mstrptime\u001b[49m\u001b[43m(\u001b[49m\u001b[43mend_date\u001b[49m\u001b[43m,\u001b[49m\u001b[43m \u001b[49m\u001b[38;5;124;43m'\u001b[39;49m\u001b[38;5;124;43m%\u001b[39;49m\u001b[38;5;124;43mY-\u001b[39;49m\u001b[38;5;124;43m%\u001b[39;49m\u001b[38;5;124;43mm-\u001b[39;49m\u001b[38;5;132;43;01m%d\u001b[39;49;00m\u001b[38;5;124;43m \u001b[39;49m\u001b[38;5;124;43m%\u001b[39;49m\u001b[38;5;124;43mH:\u001b[39;49m\u001b[38;5;124;43m%\u001b[39;49m\u001b[38;5;124;43mM:\u001b[39;49m\u001b[38;5;124;43m%\u001b[39;49m\u001b[38;5;124;43mS\u001b[39;49m\u001b[38;5;124;43m'\u001b[39;49m\u001b[43m)\u001b[49m\n\u001b[1;32m     11\u001b[0m \u001b[38;5;66;03m# Retrieve file paths\u001b[39;00m\n\u001b[1;32m     12\u001b[0m file_paths \u001b[38;5;241m=\u001b[39m list_files_in_last_30_days(end_date)\n",
      "File \u001b[0;32m/opt/conda/lib/python3.10/_strptime.py:568\u001b[0m, in \u001b[0;36m_strptime_datetime\u001b[0;34m(cls, data_string, format)\u001b[0m\n\u001b[1;32m    565\u001b[0m \u001b[38;5;28;01mdef\u001b[39;00m \u001b[38;5;21m_strptime_datetime\u001b[39m(\u001b[38;5;28mcls\u001b[39m, data_string, \u001b[38;5;28mformat\u001b[39m\u001b[38;5;241m=\u001b[39m\u001b[38;5;124m\"\u001b[39m\u001b[38;5;132;01m%a\u001b[39;00m\u001b[38;5;124m \u001b[39m\u001b[38;5;124m%\u001b[39m\u001b[38;5;124mb \u001b[39m\u001b[38;5;132;01m%d\u001b[39;00m\u001b[38;5;124m \u001b[39m\u001b[38;5;124m%\u001b[39m\u001b[38;5;124mH:\u001b[39m\u001b[38;5;124m%\u001b[39m\u001b[38;5;124mM:\u001b[39m\u001b[38;5;124m%\u001b[39m\u001b[38;5;124mS \u001b[39m\u001b[38;5;124m%\u001b[39m\u001b[38;5;124mY\u001b[39m\u001b[38;5;124m\"\u001b[39m):\n\u001b[1;32m    566\u001b[0m \u001b[38;5;250m    \u001b[39m\u001b[38;5;124;03m\"\"\"Return a class cls instance based on the input string and the\u001b[39;00m\n\u001b[1;32m    567\u001b[0m \u001b[38;5;124;03m    format string.\"\"\"\u001b[39;00m\n\u001b[0;32m--> 568\u001b[0m     tt, fraction, gmtoff_fraction \u001b[38;5;241m=\u001b[39m \u001b[43m_strptime\u001b[49m\u001b[43m(\u001b[49m\u001b[43mdata_string\u001b[49m\u001b[43m,\u001b[49m\u001b[43m \u001b[49m\u001b[38;5;28;43mformat\u001b[39;49m\u001b[43m)\u001b[49m\n\u001b[1;32m    569\u001b[0m     tzname, gmtoff \u001b[38;5;241m=\u001b[39m tt[\u001b[38;5;241m-\u001b[39m\u001b[38;5;241m2\u001b[39m:]\n\u001b[1;32m    570\u001b[0m     args \u001b[38;5;241m=\u001b[39m tt[:\u001b[38;5;241m6\u001b[39m] \u001b[38;5;241m+\u001b[39m (fraction,)\n",
      "File \u001b[0;32m/opt/conda/lib/python3.10/_strptime.py:352\u001b[0m, in \u001b[0;36m_strptime\u001b[0;34m(data_string, format)\u001b[0m\n\u001b[1;32m    349\u001b[0m     \u001b[38;5;28;01mraise\u001b[39;00m \u001b[38;5;167;01mValueError\u001b[39;00m(\u001b[38;5;124m\"\u001b[39m\u001b[38;5;124mtime data \u001b[39m\u001b[38;5;132;01m%r\u001b[39;00m\u001b[38;5;124m does not match format \u001b[39m\u001b[38;5;132;01m%r\u001b[39;00m\u001b[38;5;124m\"\u001b[39m \u001b[38;5;241m%\u001b[39m\n\u001b[1;32m    350\u001b[0m                      (data_string, \u001b[38;5;28mformat\u001b[39m))\n\u001b[1;32m    351\u001b[0m \u001b[38;5;28;01mif\u001b[39;00m \u001b[38;5;28mlen\u001b[39m(data_string) \u001b[38;5;241m!=\u001b[39m found\u001b[38;5;241m.\u001b[39mend():\n\u001b[0;32m--> 352\u001b[0m     \u001b[38;5;28;01mraise\u001b[39;00m \u001b[38;5;167;01mValueError\u001b[39;00m(\u001b[38;5;124m\"\u001b[39m\u001b[38;5;124munconverted data remains: \u001b[39m\u001b[38;5;132;01m%s\u001b[39;00m\u001b[38;5;124m\"\u001b[39m \u001b[38;5;241m%\u001b[39m\n\u001b[1;32m    353\u001b[0m                       data_string[found\u001b[38;5;241m.\u001b[39mend():])\n\u001b[1;32m    355\u001b[0m iso_year \u001b[38;5;241m=\u001b[39m year \u001b[38;5;241m=\u001b[39m \u001b[38;5;28;01mNone\u001b[39;00m\n\u001b[1;32m    356\u001b[0m month \u001b[38;5;241m=\u001b[39m day \u001b[38;5;241m=\u001b[39m \u001b[38;5;241m1\u001b[39m\n",
      "\u001b[0;31mValueError\u001b[0m: unconverted data remains: .716069"
     ]
    }
   ],
   "source": [
    "end_date='2024-11-17 07:53:01.716069'\n",
    "combined_df = load_and_concat_files(end_date)"
   ]
  },
  {
   "cell_type": "code",
   "execution_count": 35,
   "id": "f85c130e-8bc6-472b-abfe-c1358c10a0bb",
   "metadata": {},
   "outputs": [
    {
     "ename": "ValueError",
     "evalue": "time data '2024-11-26+00%3A00%3A00' does not match format '%Y-%m-%d %H:%M:%S.%f'",
     "output_type": "error",
     "traceback": [
      "\u001b[0;31m---------------------------------------------------------------------------\u001b[0m",
      "\u001b[0;31mValueError\u001b[0m                                Traceback (most recent call last)",
      "Cell \u001b[0;32mIn[35], line 2\u001b[0m\n\u001b[1;32m      1\u001b[0m end_date\u001b[38;5;241m=\u001b[39m\u001b[38;5;124m'\u001b[39m\u001b[38;5;124m2024-11-26+00\u001b[39m\u001b[38;5;124m%\u001b[39m\u001b[38;5;124m3A00\u001b[39m\u001b[38;5;124m%\u001b[39m\u001b[38;5;124m3A00\u001b[39m\u001b[38;5;124m'\u001b[39m\n\u001b[0;32m----> 2\u001b[0m combined_df \u001b[38;5;241m=\u001b[39m \u001b[43mload_and_concat_files\u001b[49m\u001b[43m(\u001b[49m\u001b[43mend_date\u001b[49m\u001b[43m)\u001b[49m\n",
      "Cell \u001b[0;32mIn[34], line 10\u001b[0m, in \u001b[0;36mload_and_concat_files\u001b[0;34m(end_date)\u001b[0m\n\u001b[1;32m      7\u001b[0m s3_prefix \u001b[38;5;241m=\u001b[39m \u001b[38;5;124m'\u001b[39m\u001b[38;5;124macm/daily/temporary\u001b[39m\u001b[38;5;124m'\u001b[39m\n\u001b[1;32m      8\u001b[0m \u001b[38;5;66;03m# Convert to datetime object using the full format\u001b[39;00m\n\u001b[1;32m      9\u001b[0m     \u001b[38;5;66;03m# Convert to datetime object using the full format\u001b[39;00m\n\u001b[0;32m---> 10\u001b[0m end_date \u001b[38;5;241m=\u001b[39m \u001b[43mdatetime\u001b[49m\u001b[38;5;241;43m.\u001b[39;49m\u001b[43mstrptime\u001b[49m\u001b[43m(\u001b[49m\u001b[43mend_date\u001b[49m\u001b[43m,\u001b[49m\u001b[43m \u001b[49m\u001b[38;5;124;43m'\u001b[39;49m\u001b[38;5;124;43m%\u001b[39;49m\u001b[38;5;124;43mY-\u001b[39;49m\u001b[38;5;124;43m%\u001b[39;49m\u001b[38;5;124;43mm-\u001b[39;49m\u001b[38;5;132;43;01m%d\u001b[39;49;00m\u001b[38;5;124;43m \u001b[39;49m\u001b[38;5;124;43m%\u001b[39;49m\u001b[38;5;124;43mH:\u001b[39;49m\u001b[38;5;124;43m%\u001b[39;49m\u001b[38;5;124;43mM:\u001b[39;49m\u001b[38;5;124;43m%\u001b[39;49m\u001b[38;5;124;43mS.\u001b[39;49m\u001b[38;5;132;43;01m%f\u001b[39;49;00m\u001b[38;5;124;43m'\u001b[39;49m\u001b[43m)\u001b[49m\n\u001b[1;32m     11\u001b[0m \u001b[38;5;66;03m# Retrieve file paths\u001b[39;00m\n\u001b[1;32m     12\u001b[0m file_paths \u001b[38;5;241m=\u001b[39m list_files_in_last_30_days(end_date)\n",
      "File \u001b[0;32m/opt/conda/lib/python3.10/_strptime.py:568\u001b[0m, in \u001b[0;36m_strptime_datetime\u001b[0;34m(cls, data_string, format)\u001b[0m\n\u001b[1;32m    565\u001b[0m \u001b[38;5;28;01mdef\u001b[39;00m \u001b[38;5;21m_strptime_datetime\u001b[39m(\u001b[38;5;28mcls\u001b[39m, data_string, \u001b[38;5;28mformat\u001b[39m\u001b[38;5;241m=\u001b[39m\u001b[38;5;124m\"\u001b[39m\u001b[38;5;132;01m%a\u001b[39;00m\u001b[38;5;124m \u001b[39m\u001b[38;5;124m%\u001b[39m\u001b[38;5;124mb \u001b[39m\u001b[38;5;132;01m%d\u001b[39;00m\u001b[38;5;124m \u001b[39m\u001b[38;5;124m%\u001b[39m\u001b[38;5;124mH:\u001b[39m\u001b[38;5;124m%\u001b[39m\u001b[38;5;124mM:\u001b[39m\u001b[38;5;124m%\u001b[39m\u001b[38;5;124mS \u001b[39m\u001b[38;5;124m%\u001b[39m\u001b[38;5;124mY\u001b[39m\u001b[38;5;124m\"\u001b[39m):\n\u001b[1;32m    566\u001b[0m \u001b[38;5;250m    \u001b[39m\u001b[38;5;124;03m\"\"\"Return a class cls instance based on the input string and the\u001b[39;00m\n\u001b[1;32m    567\u001b[0m \u001b[38;5;124;03m    format string.\"\"\"\u001b[39;00m\n\u001b[0;32m--> 568\u001b[0m     tt, fraction, gmtoff_fraction \u001b[38;5;241m=\u001b[39m \u001b[43m_strptime\u001b[49m\u001b[43m(\u001b[49m\u001b[43mdata_string\u001b[49m\u001b[43m,\u001b[49m\u001b[43m \u001b[49m\u001b[38;5;28;43mformat\u001b[39;49m\u001b[43m)\u001b[49m\n\u001b[1;32m    569\u001b[0m     tzname, gmtoff \u001b[38;5;241m=\u001b[39m tt[\u001b[38;5;241m-\u001b[39m\u001b[38;5;241m2\u001b[39m:]\n\u001b[1;32m    570\u001b[0m     args \u001b[38;5;241m=\u001b[39m tt[:\u001b[38;5;241m6\u001b[39m] \u001b[38;5;241m+\u001b[39m (fraction,)\n",
      "File \u001b[0;32m/opt/conda/lib/python3.10/_strptime.py:349\u001b[0m, in \u001b[0;36m_strptime\u001b[0;34m(data_string, format)\u001b[0m\n\u001b[1;32m    347\u001b[0m found \u001b[38;5;241m=\u001b[39m format_regex\u001b[38;5;241m.\u001b[39mmatch(data_string)\n\u001b[1;32m    348\u001b[0m \u001b[38;5;28;01mif\u001b[39;00m \u001b[38;5;129;01mnot\u001b[39;00m found:\n\u001b[0;32m--> 349\u001b[0m     \u001b[38;5;28;01mraise\u001b[39;00m \u001b[38;5;167;01mValueError\u001b[39;00m(\u001b[38;5;124m\"\u001b[39m\u001b[38;5;124mtime data \u001b[39m\u001b[38;5;132;01m%r\u001b[39;00m\u001b[38;5;124m does not match format \u001b[39m\u001b[38;5;132;01m%r\u001b[39;00m\u001b[38;5;124m\"\u001b[39m \u001b[38;5;241m%\u001b[39m\n\u001b[1;32m    350\u001b[0m                      (data_string, \u001b[38;5;28mformat\u001b[39m))\n\u001b[1;32m    351\u001b[0m \u001b[38;5;28;01mif\u001b[39;00m \u001b[38;5;28mlen\u001b[39m(data_string) \u001b[38;5;241m!=\u001b[39m found\u001b[38;5;241m.\u001b[39mend():\n\u001b[1;32m    352\u001b[0m     \u001b[38;5;28;01mraise\u001b[39;00m \u001b[38;5;167;01mValueError\u001b[39;00m(\u001b[38;5;124m\"\u001b[39m\u001b[38;5;124munconverted data remains: \u001b[39m\u001b[38;5;132;01m%s\u001b[39;00m\u001b[38;5;124m\"\u001b[39m \u001b[38;5;241m%\u001b[39m\n\u001b[1;32m    353\u001b[0m                       data_string[found\u001b[38;5;241m.\u001b[39mend():])\n",
      "\u001b[0;31mValueError\u001b[0m: time data '2024-11-26+00%3A00%3A00' does not match format '%Y-%m-%d %H:%M:%S.%f'"
     ]
    }
   ],
   "source": [
    "end_date='2024-11-26+00%3A00%3A00'\n",
    "combined_df = load_and_concat_files(end_date)"
   ]
  },
  {
   "cell_type": "code",
   "execution_count": null,
   "id": "becc5d39-84bb-4249-82df-98ce7927a843",
   "metadata": {},
   "outputs": [],
   "source": [
    "curl -X GET \"https://localhost:9000/acm_concat?end_date=2024-11-19%2008:07:28.198702\"\n"
   ]
  },
  {
   "cell_type": "code",
   "execution_count": 16,
   "id": "aae536dd-58dc-4aaa-9d7a-ad26c8b62864",
   "metadata": {},
   "outputs": [],
   "source": [
    "from urllib.parse import quote_plus"
   ]
  },
  {
   "cell_type": "code",
   "execution_count": 29,
   "id": "9aaff4f1-3896-41fb-9765-e7ae95a68d24",
   "metadata": {},
   "outputs": [],
   "source": [
    "result_path=quote_plus(end_date)"
   ]
  },
  {
   "cell_type": "code",
   "execution_count": 27,
   "id": "14aed877-a8de-448a-bcd0-f5e0552ca62d",
   "metadata": {},
   "outputs": [],
   "source": [
    "end_date='2024-11-26 00:00:00'"
   ]
  },
  {
   "cell_type": "code",
   "execution_count": 30,
   "id": "e4753d18-3181-4183-b619-d51b834d69c6",
   "metadata": {},
   "outputs": [
    {
     "data": {
      "text/plain": [
       "'2024-11-26+00%3A00%3A00'"
      ]
     },
     "execution_count": 30,
     "metadata": {},
     "output_type": "execute_result"
    }
   ],
   "source": [
    "result_path"
   ]
  },
  {
   "cell_type": "code",
   "execution_count": null,
   "id": "0f0c15c3-697a-4305-a439-b6245a408a84",
   "metadata": {},
   "outputs": [],
   "source": [
    "def delete_and_upload_encrypt(**kwargs):\n",
    "    try:\n",
    "        # Get task instance to Interact with XCom\n",
    "\n",
    "        # result_path = result_path + '.csv'\n",
    "\n",
    "        # Create a list of paths/keys to delete\n",
    "        keys_path = \n",
    "\n",
    "        # Extract S3 keys from full paths or use them directly if they are keys\n",
    "        s3_keys = [extract_s3_key(path) for path in keys_path]\n",
    "        prInt(\"s3_keys\",s3_keys)\n",
    "\n",
    "        # Initialize S3 client\n",
    "        s3 = boto3.client('s3')\n",
    "\n",
    "        # Define bucket name\n",
    "        bucket_name = 'otg-fraud-dataml-prod'\n",
    "\n",
    "        for s3_key in s3_keys:\n",
    "            try:\n",
    "                # s3_key = extract_s3_key(path)\n",
    "                prInt(s3_key)\n",
    "                \n",
    "                # Generate AES encryption key from Airflow variables\n",
    "                key_airflow = Variable.get(\"api_email\")\n",
    "                prInt(\"key_airflow\",key_airflow)\n",
    "                key=b')\\xd9;_kp\\xd5\\x9dY\\xc6\\xb2UD\\xa4r\\xe1}\\xf3\\xb0+C\\xba\\xb4W\\xa1\\xc8\\x00m\\x94\\xe2y\\xc2'\n",
    "                # key = bytes.fromhex(key)  # Convert the hex string back to bytes if stored as hex\n",
    "                prInt(\"key\",key)\n",
    "\n",
    "                # Generate a nonce (random value for encryption)\n",
    "                nonce = os.urandom(12)\n",
    "                aad = b\"authenticated additional data\"  # AAD (can be stored in Airflow variables)\n",
    "\n",
    "                # Fetch the file content from S3\n",
    "                file_obj = s3.get_object(Bucket=bucket_name, Key=s3_key)\n",
    "                file_content = file_obj['Body'].read()  # Read file content to be encrypted\n",
    "                prInt(\"here\")\n",
    "\n",
    "                # Encrypt the file content using AES-GCM\n",
    "                aesgcm = AESGCM(key)\n",
    "                ciphertext = aesgcm.encrypt(nonce, file_content, aad)\n",
    "\n",
    "                # Define the new path by replacing 'temporary' \n",
    "                new_s3_key = s3_key.replace('temporary/', '')  \n",
    "\n",
    "                # Upload the encrypted file back to S3 at the new location\n",
    "                s3.put_object(Bucket=bucket_name, Key=new_s3_key, Body=ciphertext)\n",
    "                prInt(\"put encrypted\")\n",
    "\n",
    "                # Create the info.json content with the nonce\n",
    "                info_data = {\n",
    "                    'nonce': nonce.hex()  # Convert nonce to hex for easy storage in JSON\n",
    "                }\n",
    "\n",
    "                # Write the info.json to S3 at the same path as the new encrypted file\n",
    "                info_file_key = new_s3_key.replace('.csv', '_info.json')  # Adjust the path for info.json\n",
    "                s3.put_object(Bucket=bucket_name, Key=info_file_key, Body=json.dumps(info_data))\n",
    "\n",
    "                # Delete the original file\n",
    "                # s3.delete_object(Bucket=bucket_name, Key=s3_key)\n",
    "\n",
    "                # Output success message\n",
    "                prInt(f'File has been encrypted and uploaded to s3://{bucket_name}/{new_s3_key}')\n",
    "                prInt(f'Nonce information written to s3://{bucket_name}/{info_file_key}')\n",
    "                prInt(f'Original file at {s3_key} has been deleted.')\n",
    "            except Exception as e:\n",
    "                prInt(f'Error processing {s3_key}: {str(e)}')\n",
    "    \n",
    "    except Exception as e:\n",
    "        prInt(f'Error in delete_and_upload_encrypt function: {str(e)}')"
   ]
  }
 ],
 "metadata": {
  "kernelspec": {
   "display_name": "Python 3 (ipykernel)",
   "language": "python",
   "name": "python3"
  },
  "language_info": {
   "codemirror_mode": {
    "name": "ipython",
    "version": 3
   },
   "file_extension": ".py",
   "mimetype": "text/x-python",
   "name": "python",
   "nbconvert_exporter": "python",
   "pygments_lexer": "ipython3",
   "version": "3.10.14"
  }
 },
 "nbformat": 4,
 "nbformat_minor": 5
}
