{
 "cells": [
  {
   "cell_type": "code",
   "execution_count": 2,
   "id": "a39624fb-69ae-408a-893c-cd54d61ac5a9",
   "metadata": {},
   "outputs": [],
   "source": [
    "import pandas as pd\n",
    "import boto3\n",
    "from io import StringIO\n",
    "from botocore.exceptions import ClientError"
   ]
  },
  {
   "cell_type": "code",
   "execution_count": 3,
   "id": "87483b72-d097-41da-8944-c96cd4614d57",
   "metadata": {},
   "outputs": [],
   "source": [
    "s3 = boto3.client('s3')\n",
    "\n",
    "def check_file_exists(bucket_name, file_path):\n",
    "    try:\n",
    "        s3.head_object(Bucket=bucket_name, Key=file_path)\n",
    "        return True\n",
    "    except ClientError as e:\n",
    "        # If a 404 error is thrown, the object does not exist\n",
    "        if e.response['Error']['Code'] == '404':\n",
    "            return False\n",
    "        else:\n",
    "            # Handle other possible exceptions\n",
    "            raise e"
   ]
  },
  {
   "cell_type": "code",
   "execution_count": 9,
   "id": "aac8cdd4-0954-4613-8856-ea110ba9d788",
   "metadata": {},
   "outputs": [],
   "source": [
    "bucket_name = 'otg-fraud-dataml-prod'\n",
    "file_path = \"raw_views/\""
   ]
  },
  {
   "cell_type": "code",
   "execution_count": 29,
   "id": "14566412-86a6-4c3e-888d-6d9f124cf61a",
   "metadata": {},
   "outputs": [
    {
     "name": "stdout",
     "output_type": "stream",
     "text": [
      "raw_views/v_order_details/year=2023/month=05/v_order_details_2023_05_000.csv\n",
      "raw_views/v_order_details/year=2023/month=06/v_order_details_2023_06_000.csv\n",
      "raw_views/v_order_details/year=2023/month=07/v_order_details_2023_07_000.csv\n",
      "raw_views/v_order_details/year=2023/month=08/v_order_details_2023_08_000.csv\n",
      "raw_views/v_order_details/year=2023/month=09/v_order_details_2023_09_000.csv\n",
      "raw_views/v_order_details/year=2023/month=10/v_order_details_2023_10_000.csv\n",
      "raw_views/v_order_details/year=2023/month=11/v_order_details_2023_11_000.csv\n",
      "raw_views/v_order_details/year=2023/month=12/v_order_details_2023_12_000.csv\n",
      "raw_views/v_order_details/year=2024/month=01/v_order_details_2024_01_000.csv\n",
      "raw_views/v_order_details/year=2024/month=02/v_order_details_2024_02_000.csv\n",
      "raw_views/v_order_details/year=2024/month=03/v_order_details_2024_03_000\n",
      "raw_views/v_order_details/year=2024/month=04/v_order_details_2024_04_000.csv\n",
      "raw_views/v_order_details/year=2024/month=05/v_order_details_2024_05_000.csv\n",
      "raw_views/v_order_details/year=2024/month=06/v_order_details_2024_06_000.csv\n",
      "raw_views/v_order_details/year=2024/month=07/v_order_details_2024_07_000.csv\n",
      "raw_views/v_order_details/year=2024/month=08/v_order_details_2024_08_000.csv\n",
      "raw_views/v_payment_details/year=2023/month=05/v_payment_details_2023_05_000.csv\n",
      "raw_views/v_payment_details/year=2023/month=06/v_payment_details_2023_06_000.csv\n",
      "raw_views/v_payment_details/year=2023/month=07/v_payment_details_2023_07_000.csv\n",
      "raw_views/v_payment_details/year=2023/month=08/v_payment_details_2023_08_000.csv\n",
      "raw_views/v_payment_details/year=2023/month=09/v_payment_details_2023_09_000.csv\n",
      "raw_views/v_payment_details/year=2023/month=10/v_payment_details_2023_10_000.csv\n",
      "raw_views/v_payment_details/year=2023/month=11/v_payment_details_2023_11_000.csv\n",
      "raw_views/v_payment_details/year=2023/month=12/v_payment_details_2023_12_000.csv\n",
      "raw_views/v_payment_details/year=2024/month=01/v_payment_details_2024_01_000.csv\n",
      "raw_views/v_payment_details/year=2024/month=02/v_payment_details_2024_02_000.csv\n",
      "raw_views/v_payment_details/year=2024/month=03/v_payment_details_2024_03_000.csv\n",
      "raw_views/v_payment_details/year=2024/month=04/v_payment_details_2024_04_000.csv\n",
      "raw_views/v_payment_details/year=2024/month=05/v_payment_details_2024_05_000.csv\n",
      "raw_views/v_payment_details/year=2024/month=06/v_payment_details_2024_06_000.csv\n",
      "raw_views/v_payment_details/year=2024/month=07/v_payment_details_2024_07_000.csv\n",
      "raw_views/v_payment_details/year=2024/month=08/v_payment_details_2024_08_000.csv\n"
     ]
    }
   ],
   "source": [
    "response = s3.list_objects_v2(Bucket=bucket_name, \n",
    "                              Prefix=file_path)\n",
    "\n",
    "if 'Contents' in response:\n",
    "    for obj in response['Contents']:\n",
    "        print(obj['Key'])\n",
    "        # s3.delete_object(Bucket=bucket_name, Key=obj['Key'])\n",
    "else:\n",
    "    print(\"No files found in the path.\")\n"
   ]
  },
  {
   "cell_type": "code",
   "execution_count": null,
   "id": "e364177e-8ab2-493c-a15c-eefd72a7749f",
   "metadata": {},
   "outputs": [],
   "source": [
    "# s3://otg-fraud-dataml-prod/raw_views/v_order_details/year=2023/month=05/v_order_details_2023_05_000.csv"
   ]
  },
  {
   "cell_type": "code",
   "execution_count": null,
   "id": "750d77b3-d389-49a0-b4d4-ca74b314bd1b",
   "metadata": {},
   "outputs": [],
   "source": []
  },
  {
   "cell_type": "code",
   "execution_count": null,
   "id": "4605c733-56b5-4f98-b4a4-048f3cee91de",
   "metadata": {},
   "outputs": [],
   "source": []
  },
  {
   "cell_type": "code",
   "execution_count": null,
   "id": "e4edc40e-0199-4ed6-8511-7f13aa5a895a",
   "metadata": {},
   "outputs": [],
   "source": []
  },
  {
   "cell_type": "code",
   "execution_count": 110,
   "id": "ec493915-d23e-4184-a07b-5465985fa65a",
   "metadata": {},
   "outputs": [
    {
     "ename": "ParserError",
     "evalue": "Error tokenizing data. C error: Expected 90 fields in line 592333, saw 92\n",
     "output_type": "error",
     "traceback": [
      "\u001b[0;31m---------------------------------------------------------------------------\u001b[0m",
      "\u001b[0;31mParserError\u001b[0m                               Traceback (most recent call last)",
      "Cell \u001b[0;32mIn[110], line 6\u001b[0m\n\u001b[1;32m      4\u001b[0m body \u001b[38;5;241m=\u001b[39m s3\u001b[38;5;241m.\u001b[39mget_object(Bucket\u001b[38;5;241m=\u001b[39mbucket_name, Key\u001b[38;5;241m=\u001b[39mfile_path)[\u001b[38;5;124m\"\u001b[39m\u001b[38;5;124mBody\u001b[39m\u001b[38;5;124m\"\u001b[39m]\u001b[38;5;241m.\u001b[39mread()\n\u001b[1;32m      5\u001b[0m string_data \u001b[38;5;241m=\u001b[39m body\u001b[38;5;241m.\u001b[39mdecode(\u001b[38;5;124m\"\u001b[39m\u001b[38;5;124mutf-8\u001b[39m\u001b[38;5;124m\"\u001b[39m)\n\u001b[0;32m----> 6\u001b[0m de_data \u001b[38;5;241m=\u001b[39m \u001b[43mpd\u001b[49m\u001b[38;5;241;43m.\u001b[39;49m\u001b[43mread_csv\u001b[49m\u001b[43m(\u001b[49m\n\u001b[1;32m      7\u001b[0m \u001b[43m    \u001b[49m\u001b[43mStringIO\u001b[49m\u001b[43m(\u001b[49m\u001b[43mstring_data\u001b[49m\u001b[43m)\u001b[49m\n\u001b[1;32m      8\u001b[0m \u001b[43m)\u001b[49m\n\u001b[1;32m      9\u001b[0m \u001b[38;5;28mprint\u001b[39m(de_data\u001b[38;5;241m.\u001b[39mshape)\n\u001b[1;32m     10\u001b[0m \u001b[38;5;66;03m# print(de_data.bus_date.min())\u001b[39;00m\n\u001b[1;32m     11\u001b[0m \u001b[38;5;66;03m# print(de_data.bus_date.max())\u001b[39;00m\n",
      "File \u001b[0;32m/opt/conda/lib/python3.10/site-packages/pandas/util/_decorators.py:211\u001b[0m, in \u001b[0;36mdeprecate_kwarg.<locals>._deprecate_kwarg.<locals>.wrapper\u001b[0;34m(*args, **kwargs)\u001b[0m\n\u001b[1;32m    209\u001b[0m     \u001b[38;5;28;01melse\u001b[39;00m:\n\u001b[1;32m    210\u001b[0m         kwargs[new_arg_name] \u001b[38;5;241m=\u001b[39m new_arg_value\n\u001b[0;32m--> 211\u001b[0m \u001b[38;5;28;01mreturn\u001b[39;00m \u001b[43mfunc\u001b[49m\u001b[43m(\u001b[49m\u001b[38;5;241;43m*\u001b[39;49m\u001b[43margs\u001b[49m\u001b[43m,\u001b[49m\u001b[43m \u001b[49m\u001b[38;5;241;43m*\u001b[39;49m\u001b[38;5;241;43m*\u001b[39;49m\u001b[43mkwargs\u001b[49m\u001b[43m)\u001b[49m\n",
      "File \u001b[0;32m/opt/conda/lib/python3.10/site-packages/pandas/util/_decorators.py:331\u001b[0m, in \u001b[0;36mdeprecate_nonkeyword_arguments.<locals>.decorate.<locals>.wrapper\u001b[0;34m(*args, **kwargs)\u001b[0m\n\u001b[1;32m    325\u001b[0m \u001b[38;5;28;01mif\u001b[39;00m \u001b[38;5;28mlen\u001b[39m(args) \u001b[38;5;241m>\u001b[39m num_allow_args:\n\u001b[1;32m    326\u001b[0m     warnings\u001b[38;5;241m.\u001b[39mwarn(\n\u001b[1;32m    327\u001b[0m         msg\u001b[38;5;241m.\u001b[39mformat(arguments\u001b[38;5;241m=\u001b[39m_format_argument_list(allow_args)),\n\u001b[1;32m    328\u001b[0m         \u001b[38;5;167;01mFutureWarning\u001b[39;00m,\n\u001b[1;32m    329\u001b[0m         stacklevel\u001b[38;5;241m=\u001b[39mfind_stack_level(),\n\u001b[1;32m    330\u001b[0m     )\n\u001b[0;32m--> 331\u001b[0m \u001b[38;5;28;01mreturn\u001b[39;00m \u001b[43mfunc\u001b[49m\u001b[43m(\u001b[49m\u001b[38;5;241;43m*\u001b[39;49m\u001b[43margs\u001b[49m\u001b[43m,\u001b[49m\u001b[43m \u001b[49m\u001b[38;5;241;43m*\u001b[39;49m\u001b[38;5;241;43m*\u001b[39;49m\u001b[43mkwargs\u001b[49m\u001b[43m)\u001b[49m\n",
      "File \u001b[0;32m/opt/conda/lib/python3.10/site-packages/pandas/io/parsers/readers.py:950\u001b[0m, in \u001b[0;36mread_csv\u001b[0;34m(filepath_or_buffer, sep, delimiter, header, names, index_col, usecols, squeeze, prefix, mangle_dupe_cols, dtype, engine, converters, true_values, false_values, skipinitialspace, skiprows, skipfooter, nrows, na_values, keep_default_na, na_filter, verbose, skip_blank_lines, parse_dates, infer_datetime_format, keep_date_col, date_parser, dayfirst, cache_dates, iterator, chunksize, compression, thousands, decimal, lineterminator, quotechar, quoting, doublequote, escapechar, comment, encoding, encoding_errors, dialect, error_bad_lines, warn_bad_lines, on_bad_lines, delim_whitespace, low_memory, memory_map, float_precision, storage_options)\u001b[0m\n\u001b[1;32m    935\u001b[0m kwds_defaults \u001b[38;5;241m=\u001b[39m _refine_defaults_read(\n\u001b[1;32m    936\u001b[0m     dialect,\n\u001b[1;32m    937\u001b[0m     delimiter,\n\u001b[0;32m   (...)\u001b[0m\n\u001b[1;32m    946\u001b[0m     defaults\u001b[38;5;241m=\u001b[39m{\u001b[38;5;124m\"\u001b[39m\u001b[38;5;124mdelimiter\u001b[39m\u001b[38;5;124m\"\u001b[39m: \u001b[38;5;124m\"\u001b[39m\u001b[38;5;124m,\u001b[39m\u001b[38;5;124m\"\u001b[39m},\n\u001b[1;32m    947\u001b[0m )\n\u001b[1;32m    948\u001b[0m kwds\u001b[38;5;241m.\u001b[39mupdate(kwds_defaults)\n\u001b[0;32m--> 950\u001b[0m \u001b[38;5;28;01mreturn\u001b[39;00m \u001b[43m_read\u001b[49m\u001b[43m(\u001b[49m\u001b[43mfilepath_or_buffer\u001b[49m\u001b[43m,\u001b[49m\u001b[43m \u001b[49m\u001b[43mkwds\u001b[49m\u001b[43m)\u001b[49m\n",
      "File \u001b[0;32m/opt/conda/lib/python3.10/site-packages/pandas/io/parsers/readers.py:611\u001b[0m, in \u001b[0;36m_read\u001b[0;34m(filepath_or_buffer, kwds)\u001b[0m\n\u001b[1;32m    608\u001b[0m     \u001b[38;5;28;01mreturn\u001b[39;00m parser\n\u001b[1;32m    610\u001b[0m \u001b[38;5;28;01mwith\u001b[39;00m parser:\n\u001b[0;32m--> 611\u001b[0m     \u001b[38;5;28;01mreturn\u001b[39;00m \u001b[43mparser\u001b[49m\u001b[38;5;241;43m.\u001b[39;49m\u001b[43mread\u001b[49m\u001b[43m(\u001b[49m\u001b[43mnrows\u001b[49m\u001b[43m)\u001b[49m\n",
      "File \u001b[0;32m/opt/conda/lib/python3.10/site-packages/pandas/io/parsers/readers.py:1778\u001b[0m, in \u001b[0;36mTextFileReader.read\u001b[0;34m(self, nrows)\u001b[0m\n\u001b[1;32m   1771\u001b[0m nrows \u001b[38;5;241m=\u001b[39m validate_integer(\u001b[38;5;124m\"\u001b[39m\u001b[38;5;124mnrows\u001b[39m\u001b[38;5;124m\"\u001b[39m, nrows)\n\u001b[1;32m   1772\u001b[0m \u001b[38;5;28;01mtry\u001b[39;00m:\n\u001b[1;32m   1773\u001b[0m     \u001b[38;5;66;03m# error: \"ParserBase\" has no attribute \"read\"\u001b[39;00m\n\u001b[1;32m   1774\u001b[0m     (\n\u001b[1;32m   1775\u001b[0m         index,\n\u001b[1;32m   1776\u001b[0m         columns,\n\u001b[1;32m   1777\u001b[0m         col_dict,\n\u001b[0;32m-> 1778\u001b[0m     ) \u001b[38;5;241m=\u001b[39m \u001b[38;5;28;43mself\u001b[39;49m\u001b[38;5;241;43m.\u001b[39;49m\u001b[43m_engine\u001b[49m\u001b[38;5;241;43m.\u001b[39;49m\u001b[43mread\u001b[49m\u001b[43m(\u001b[49m\u001b[43m  \u001b[49m\u001b[38;5;66;43;03m# type: ignore[attr-defined]\u001b[39;49;00m\n\u001b[1;32m   1779\u001b[0m \u001b[43m        \u001b[49m\u001b[43mnrows\u001b[49m\n\u001b[1;32m   1780\u001b[0m \u001b[43m    \u001b[49m\u001b[43m)\u001b[49m\n\u001b[1;32m   1781\u001b[0m \u001b[38;5;28;01mexcept\u001b[39;00m \u001b[38;5;167;01mException\u001b[39;00m:\n\u001b[1;32m   1782\u001b[0m     \u001b[38;5;28mself\u001b[39m\u001b[38;5;241m.\u001b[39mclose()\n",
      "File \u001b[0;32m/opt/conda/lib/python3.10/site-packages/pandas/io/parsers/c_parser_wrapper.py:230\u001b[0m, in \u001b[0;36mCParserWrapper.read\u001b[0;34m(self, nrows)\u001b[0m\n\u001b[1;32m    228\u001b[0m \u001b[38;5;28;01mtry\u001b[39;00m:\n\u001b[1;32m    229\u001b[0m     \u001b[38;5;28;01mif\u001b[39;00m \u001b[38;5;28mself\u001b[39m\u001b[38;5;241m.\u001b[39mlow_memory:\n\u001b[0;32m--> 230\u001b[0m         chunks \u001b[38;5;241m=\u001b[39m \u001b[38;5;28;43mself\u001b[39;49m\u001b[38;5;241;43m.\u001b[39;49m\u001b[43m_reader\u001b[49m\u001b[38;5;241;43m.\u001b[39;49m\u001b[43mread_low_memory\u001b[49m\u001b[43m(\u001b[49m\u001b[43mnrows\u001b[49m\u001b[43m)\u001b[49m\n\u001b[1;32m    231\u001b[0m         \u001b[38;5;66;03m# destructive to chunks\u001b[39;00m\n\u001b[1;32m    232\u001b[0m         data \u001b[38;5;241m=\u001b[39m _concatenate_chunks(chunks)\n",
      "File \u001b[0;32m/opt/conda/lib/python3.10/site-packages/pandas/_libs/parsers.pyx:808\u001b[0m, in \u001b[0;36mpandas._libs.parsers.TextReader.read_low_memory\u001b[0;34m()\u001b[0m\n",
      "File \u001b[0;32m/opt/conda/lib/python3.10/site-packages/pandas/_libs/parsers.pyx:866\u001b[0m, in \u001b[0;36mpandas._libs.parsers.TextReader._read_rows\u001b[0;34m()\u001b[0m\n",
      "File \u001b[0;32m/opt/conda/lib/python3.10/site-packages/pandas/_libs/parsers.pyx:852\u001b[0m, in \u001b[0;36mpandas._libs.parsers.TextReader._tokenize_rows\u001b[0;34m()\u001b[0m\n",
      "File \u001b[0;32m/opt/conda/lib/python3.10/site-packages/pandas/_libs/parsers.pyx:1973\u001b[0m, in \u001b[0;36mpandas._libs.parsers.raise_parser_error\u001b[0;34m()\u001b[0m\n",
      "\u001b[0;31mParserError\u001b[0m: Error tokenizing data. C error: Expected 90 fields in line 592333, saw 92\n"
     ]
    }
   ],
   "source": [
    "# file_path = \"lacm/inference/15_minutes/year=2024/month=8/day=6/hour=14/minute=6/lacm_000.csv\"\n",
    "file_path = \"source_views/v_order_details/year=2023/month=12/v_order_details_2023_12_000.csv\"\n",
    "\n",
    "body = s3.get_object(Bucket=bucket_name, Key=file_path)[\"Body\"].read()\n",
    "string_data = body.decode(\"utf-8\")\n",
    "de_data = pd.read_csv(\n",
    "    StringIO(string_data)\n",
    ")\n",
    "print(de_data.shape)\n",
    "# print(de_data.bus_date.min())\n",
    "# print(de_data.bus_date.max())"
   ]
  },
  {
   "cell_type": "code",
   "execution_count": 100,
   "id": "7fc19212-c6a4-422a-8c19-1b3d61543ff8",
   "metadata": {},
   "outputs": [
    {
     "data": {
      "text/plain": [
       "Index(['country_id', 'bus_date', 'pos_venue_id', 'order_id', 'transaction_id',\n",
       "       'device_order_id', 'order_event_type_id', 'pos_order_type_id',\n",
       "       'day_part_id', 'time_zone', 'order_local_time', 'sales_hr',\n",
       "       'ord_beg_time', 'ord_close_time', 'order_close_server_time',\n",
       "       'total_time', 'item_count', 'guest_count', 'gross_total', 'net_total',\n",
       "       'taxes', 'exclusive_tax', 'inclusive_tax', 'food_cost_amt',\n",
       "       'paper_cost_am', 'total_cost_am', 'reduction_amt', 'reduction_id',\n",
       "       'promo_id', 'cust_prof_id', 'mobile_ord_fl', 'original_order_id',\n",
       "       'order_status_id', 'device_id', 'vendor_loc_id', 'custom_desc',\n",
       "       'fee_amt', 'custom_fee_value', 'mode_id', 'tip_amount', 'tip_status',\n",
       "       'order_source_id', 'course_code', 'sync_status', 'srce_sys_id',\n",
       "       'load_ts', 'updt_ts', 'order_modified_time', 'src_sys_id', 'vendor_id',\n",
       "       'menu_vendor_id', 'pos_order_uuid', 'refund_vendor_id',\n",
       "       'refund_venue_id', 'pos_terminal_id', 'reduction_cd', 'active_fl',\n",
       "       'triggered_drink_reorder', 'local_currency_code', 'order_tab_id',\n",
       "       'order_status_cd', 'scheduled_local_dtm', 'root_item_count',\n",
       "       'united_account_id', 'cust_prof_key', 'cust_first_name',\n",
       "       'cust_last_name', 'cust_create_time', 'cust_modified_time',\n",
       "       'domain_modified_time', 'birth_date', 'activity_status_code',\n",
       "       'cust_active_fl', 'employee_role_name', 'cust_emply_verified_fl',\n",
       "       'cust_emply_active_fl', 'cust_reduction_cd', 'employer_id',\n",
       "       'employer_name', 'employer_active_fl', 'identity_provider_id',\n",
       "       'identity_provided_uid', 'default_email_address',\n",
       "       'default_phone_number', 'company_id', 'primary_email_address',\n",
       "       'primary_email_opt_in_fl', 'primary_email_active_fl',\n",
       "       'primary_email_verified_fl', 'extra_ph_number'],\n",
       "      dtype='object')"
      ]
     },
     "execution_count": 100,
     "metadata": {},
     "output_type": "execute_result"
    }
   ],
   "source": [
    "de_data.columns"
   ]
  },
  {
   "cell_type": "code",
   "execution_count": null,
   "id": "d65e11fb-25ef-460e-8e44-8e1ed7e696ab",
   "metadata": {},
   "outputs": [],
   "source": [
    "de_data.shape"
   ]
  },
  {
   "cell_type": "code",
   "execution_count": 91,
   "id": "96e3c470-1c91-4d7e-878e-188ecbb339d2",
   "metadata": {},
   "outputs": [
    {
     "data": {
      "text/plain": [
       "1675975"
      ]
     },
     "execution_count": 91,
     "metadata": {},
     "output_type": "execute_result"
    }
   ],
   "source": [
    "de_data.groupby('bus_date')['order_id'].count().values.sum()"
   ]
  },
  {
   "cell_type": "code",
   "execution_count": 83,
   "id": "6db743d4-a20e-42f9-8c26-93e0605da1d0",
   "metadata": {},
   "outputs": [],
   "source": [
    "# one_day = de_data[de_data.bus_date.qu('2024-03-01') & de_data.bus_date.lt('2024-03-03')]\n",
    "one_day = de_data[de_data.bus_date.eq(\"2024-03-01\")]"
   ]
  },
  {
   "cell_type": "code",
   "execution_count": 84,
   "id": "ca1016f9-b2c1-4929-b23e-beb4fa19b048",
   "metadata": {},
   "outputs": [
    {
     "data": {
      "text/plain": [
       "(128357, 140)"
      ]
     },
     "execution_count": 84,
     "metadata": {},
     "output_type": "execute_result"
    }
   ],
   "source": [
    "one_day.shape"
   ]
  },
  {
   "cell_type": "code",
   "execution_count": 28,
   "id": "e2cc1344-eda7-401a-b864-b110d987727d",
   "metadata": {},
   "outputs": [
    {
     "data": {
      "text/plain": [
       "'2024-01-31'"
      ]
     },
     "execution_count": 28,
     "metadata": {},
     "output_type": "execute_result"
    }
   ],
   "source": [
    "de_data.bus_date.max()"
   ]
  },
  {
   "cell_type": "code",
   "execution_count": 80,
   "id": "d2b90e6a-bdef-420b-a478-283423fc192b",
   "metadata": {},
   "outputs": [
    {
     "data": {
      "text/plain": [
       "8540"
      ]
     },
     "execution_count": 80,
     "metadata": {},
     "output_type": "execute_result"
    }
   ],
   "source": [
    "4681+3859"
   ]
  },
  {
   "cell_type": "code",
   "execution_count": 24,
   "id": "eb0537f3-b25a-4352-8167-fc7f88661d00",
   "metadata": {},
   "outputs": [
    {
     "name": "stdout",
     "output_type": "stream",
     "text": [
      "(38, 140)\n",
      "CPU times: user 10.8 ms, sys: 10.5 ms, total: 21.3 ms\n",
      "Wall time: 84.4 ms\n"
     ]
    }
   ],
   "source": [
    "%%time\n",
    "\n",
    "body = s3.get_object(Bucket=bucket_name, Key=file_path)[\"Body\"].read()\n",
    "string_data = body.decode(\"utf-8\")\n",
    "de_data = pd.read_csv(\n",
    "    StringIO(string_data)\n",
    ")\n",
    "print(de_data.shape)"
   ]
  },
  {
   "cell_type": "code",
   "execution_count": 9,
   "id": "056aa351-826f-4f1b-82ed-53757b84e8f2",
   "metadata": {},
   "outputs": [
    {
     "data": {
      "text/plain": [
       "fraud_category\n",
       "Reduction Fraud                     3889\n",
       "Reduction/Sub_total_Exceed Fraud    2630\n",
       "Voucher Fraud                        957\n",
       "Tip Fraud                            420\n",
       "No Fraud Category                     27\n",
       "Tip/Voucher Fraud                     18\n",
       "Refund Fraud                          11\n",
       "Reduction/Tip Fraud                    1\n",
       "Name: count, dtype: int64"
      ]
     },
     "execution_count": 9,
     "metadata": {},
     "output_type": "execute_result"
    }
   ],
   "source": [
    "de_data.fraud_category.value_counts()"
   ]
  },
  {
   "cell_type": "code",
   "execution_count": 11,
   "id": "acfb3f1f-4c10-4388-9ff2-c7e9e539e42e",
   "metadata": {},
   "outputs": [],
   "source": [
    "de_data.to_csv('data/monthly_data.csv',index=False)"
   ]
  },
  {
   "cell_type": "code",
   "execution_count": 12,
   "id": "67d4148d-50ac-4495-abe3-5b20d33c4c81",
   "metadata": {},
   "outputs": [
    {
     "name": "stderr",
     "output_type": "stream",
     "text": [
      "/tmp/ipykernel_160/895426103.py:1: DtypeWarning: Columns (42) have mixed types. Specify dtype option on import or set low_memory=False.\n",
      "  pd.read_csv('data/monthly_data.csv').shape\n"
     ]
    },
    {
     "data": {
      "text/plain": [
       "(2797471, 63)"
      ]
     },
     "execution_count": 12,
     "metadata": {},
     "output_type": "execute_result"
    }
   ],
   "source": [
    "pd.read_csv('data/monthly_data.csv').shape"
   ]
  },
  {
   "cell_type": "code",
   "execution_count": 110,
   "id": "8303acf3-8a33-4a3c-a9ac-9e302ba2d4a6",
   "metadata": {},
   "outputs": [
    {
     "name": "stdout",
     "output_type": "stream",
     "text": [
      "(2217722, 64)\n",
      "CPU times: user 104 µs, sys: 0 ns, total: 104 µs\n",
      "Wall time: 97.5 µs\n"
     ]
    }
   ],
   "source": [
    "%%time\n",
    "\n",
    "body = s3.get_object(Bucket=bucket_name, Key=file_path)[\"Body\"].read()\n",
    "string_data = body.decode(\"utf-8\")\n",
    "de_data = pd.read_csv(\n",
    "    StringIO(string_data)\n",
    ")\n",
    "print(de_data.shape)"
   ]
  },
  {
   "cell_type": "code",
   "execution_count": 103,
   "id": "cdf28cd7-5de1-4136-a761-4fc8995b59e5",
   "metadata": {},
   "outputs": [],
   "source": [
    "data_team_join = full_data.columns"
   ]
  },
  {
   "cell_type": "code",
   "execution_count": 107,
   "id": "b7bcb906-9242-47f3-bf9d-4e256d99ece0",
   "metadata": {},
   "outputs": [
    {
     "data": {
      "text/plain": [
       "Index(['Unnamed: 0', 'is_fraud'], dtype='object')"
      ]
     },
     "execution_count": 107,
     "metadata": {},
     "output_type": "execute_result"
    }
   ],
   "source": [
    "dec_data.difference(data_team_join)"
   ]
  },
  {
   "cell_type": "code",
   "execution_count": 106,
   "id": "9715e62e-641f-47b4-b5b5-d87166249585",
   "metadata": {},
   "outputs": [
    {
     "data": {
      "text/plain": [
       "Index(['birth_date'], dtype='object')"
      ]
     },
     "execution_count": 106,
     "metadata": {},
     "output_type": "execute_result"
    }
   ],
   "source": [
    "data_team_join.difference(dec_data)"
   ]
  },
  {
   "cell_type": "code",
   "execution_count": 104,
   "id": "996519a9-579a-45ef-83da-a104af7e7e1a",
   "metadata": {},
   "outputs": [
    {
     "data": {
      "text/plain": [
       "(63,)"
      ]
     },
     "execution_count": 104,
     "metadata": {},
     "output_type": "execute_result"
    }
   ],
   "source": [
    "data_team_join.shape"
   ]
  },
  {
   "cell_type": "code",
   "execution_count": null,
   "id": "75005b13-e582-4d27-a647-8a0bd63be87f",
   "metadata": {},
   "outputs": [],
   "source": [
    "data_team_join"
   ]
  },
  {
   "cell_type": "code",
   "execution_count": 98,
   "id": "d83a1082-8ddc-430f-986e-e15e8f678e97",
   "metadata": {},
   "outputs": [
    {
     "data": {
      "text/plain": [
       "Index(['Unnamed: 0', 'bus_date', 'pos_venue_id', 'order_id', 'device_order_id',\n",
       "       'time_zone', 'order_local_time', 'sales_hr', 'ord_beg_time',\n",
       "       'ord_close_time', 'item_count', 'gross_total', 'net_total', 'taxes',\n",
       "       'exclusive_tax', 'inclusive_tax', 'reduction_amt', 'cust_prof_id',\n",
       "       'mobile_ord_fl', 'original_order_id', 'vendor_loc_id', 'fee_amt',\n",
       "       'tip_amount', 'sync_status', 'src_sys_id', 'vendor_id',\n",
       "       'menu_vendor_id', 'refund_vendor_id', 'refund_venue_id',\n",
       "       'pos_terminal_id', 'reduction_cd', 'active_fl', 'order_tab_id',\n",
       "       'order_status_cd', 'united_account_id', 'card_type', 'payment_type',\n",
       "       'transaction_id', 'transaction_seq_nu', 'cash_recycler_tiny_code',\n",
       "       'payment_amount', 'account_id', 'payment_amt_rewards_points',\n",
       "       'voucher_number', 'emp_email', 'cust_first_name', 'cust_last_name',\n",
       "       'activity_status_code', 'employee_role_id', 'employee_role_name',\n",
       "       'cust_emply_verified_fl', 'cust_emply_active_fl', 'employer_id',\n",
       "       'employer_name', 'employer_active_fl', 'default_email_address',\n",
       "       'default_phone_number', 'company_id', 'primary_email_address',\n",
       "       'primary_email_opt_in_fl', 'primary_email_active_fl',\n",
       "       'primary_email_verified_fl', 'extra_ph_number', 'is_fraud'],\n",
       "      dtype='object')"
      ]
     },
     "execution_count": 98,
     "metadata": {},
     "output_type": "execute_result"
    }
   ],
   "source": [
    "dec_data = full_data.columns\n",
    "dec_data"
   ]
  },
  {
   "cell_type": "code",
   "execution_count": 100,
   "id": "9bca492e-81ed-46b0-8392-c21afee53d0f",
   "metadata": {},
   "outputs": [
    {
     "data": {
      "text/plain": [
       "(2217722, 64)"
      ]
     },
     "execution_count": 100,
     "metadata": {},
     "output_type": "execute_result"
    }
   ],
   "source": [
    "full_data.shape"
   ]
  },
  {
   "cell_type": "code",
   "execution_count": 97,
   "id": "33afa2e5-99de-4e18-a67c-1536bb65f3f6",
   "metadata": {},
   "outputs": [
    {
     "data": {
      "text/plain": [
       "0          0\n",
       "1          0\n",
       "2          0\n",
       "3          0\n",
       "4          0\n",
       "          ..\n",
       "2217717    0\n",
       "2217718    0\n",
       "2217719    0\n",
       "2217720    0\n",
       "2217721    0\n",
       "Name: is_fraud, Length: 2217722, dtype: int64"
      ]
     },
     "execution_count": 97,
     "metadata": {},
     "output_type": "execute_result"
    }
   ],
   "source": [
    "full_data.is_fraud"
   ]
  },
  {
   "cell_type": "code",
   "execution_count": 93,
   "id": "4fc3ce8a-03ab-40ac-859f-6a44849e1be2",
   "metadata": {},
   "outputs": [
    {
     "data": {
      "text/plain": [
       "(2165600, 63)"
      ]
     },
     "execution_count": 93,
     "metadata": {},
     "output_type": "execute_result"
    }
   ],
   "source": [
    "full_data.shape"
   ]
  },
  {
   "cell_type": "code",
   "execution_count": 78,
   "id": "e4f63ed8-08ca-48d5-8fdb-b77da81717a9",
   "metadata": {},
   "outputs": [
    {
     "data": {
      "text/plain": [
       "0       d41d8cd98f00b204e9800998ecf8427e\n",
       "1       d41d8cd98f00b204e9800998ecf8427e\n",
       "2       d41d8cd98f00b204e9800998ecf8427e\n",
       "3       d41d8cd98f00b204e9800998ecf8427e\n",
       "4       d41d8cd98f00b204e9800998ecf8427e\n",
       "                      ...               \n",
       "4676    d41d8cd98f00b204e9800998ecf8427e\n",
       "4677    d41d8cd98f00b204e9800998ecf8427e\n",
       "4678    d41d8cd98f00b204e9800998ecf8427e\n",
       "4679    d41d8cd98f00b204e9800998ecf8427e\n",
       "4680    d41d8cd98f00b204e9800998ecf8427e\n",
       "Name: united_account_id, Length: 4681, dtype: object"
      ]
     },
     "execution_count": 78,
     "metadata": {},
     "output_type": "execute_result"
    }
   ],
   "source": [
    "full_data.united_account_id"
   ]
  },
  {
   "cell_type": "code",
   "execution_count": 73,
   "id": "461e4001-c7dd-40ac-8fb0-a6e185d4b81c",
   "metadata": {},
   "outputs": [
    {
     "data": {
      "text/plain": [
       "'2023-12-01'"
      ]
     },
     "execution_count": 73,
     "metadata": {},
     "output_type": "execute_result"
    }
   ],
   "source": [
    "full_data.bus_date.min()"
   ]
  },
  {
   "cell_type": "code",
   "execution_count": 49,
   "id": "b23d1be2-e9e9-4093-955d-98a443181067",
   "metadata": {},
   "outputs": [
    {
     "data": {
      "text/plain": [
       "'2023-11-10'"
      ]
     },
     "execution_count": 49,
     "metadata": {},
     "output_type": "execute_result"
    }
   ],
   "source": [
    "# full_data.bus_date.max()"
   ]
  },
  {
   "cell_type": "code",
   "execution_count": 38,
   "id": "1c58f88b-8fe8-4aae-9e37-636a497df058",
   "metadata": {},
   "outputs": [
    {
     "data": {
      "text/plain": [
       "'2023-12-01'"
      ]
     },
     "execution_count": 38,
     "metadata": {},
     "output_type": "execute_result"
    }
   ],
   "source": [
    "test_data.bus_date.min()"
   ]
  },
  {
   "cell_type": "code",
   "execution_count": 36,
   "id": "75dd1d44-bfbe-4398-ab29-603e905541b1",
   "metadata": {},
   "outputs": [
    {
     "data": {
      "text/plain": [
       "'2023-11-10'"
      ]
     },
     "execution_count": 36,
     "metadata": {},
     "output_type": "execute_result"
    }
   ],
   "source": [
    "full_data['bus_date'].max()"
   ]
  },
  {
   "cell_type": "code",
   "execution_count": 27,
   "id": "b93a1ca7-266a-4a87-a0e9-412d6389ebd0",
   "metadata": {},
   "outputs": [
    {
     "data": {
      "text/plain": [
       "(693503, 63)"
      ]
     },
     "execution_count": 27,
     "metadata": {},
     "output_type": "execute_result"
    }
   ],
   "source": [
    "full_data.shape"
   ]
  },
  {
   "cell_type": "code",
   "execution_count": 22,
   "id": "2a8094f6-949a-456a-a781-dab5dcf9b5c8",
   "metadata": {},
   "outputs": [
    {
     "data": {
      "text/plain": [
       "(693503, 140)"
      ]
     },
     "execution_count": 22,
     "metadata": {},
     "output_type": "execute_result"
    }
   ],
   "source": [
    "full_data.shape"
   ]
  },
  {
   "cell_type": "code",
   "execution_count": null,
   "id": "3c3bf944-a49e-4e89-8ca2-7333fd097d52",
   "metadata": {},
   "outputs": [],
   "source": []
  },
  {
   "cell_type": "code",
   "execution_count": 17,
   "id": "ef99c8a8-aab4-44cc-a4a7-3c6747ee7985",
   "metadata": {},
   "outputs": [
    {
     "data": {
      "text/html": [
       "<div>\n",
       "<style scoped>\n",
       "    .dataframe tbody tr th:only-of-type {\n",
       "        vertical-align: middle;\n",
       "    }\n",
       "\n",
       "    .dataframe tbody tr th {\n",
       "        vertical-align: top;\n",
       "    }\n",
       "\n",
       "    .dataframe thead th {\n",
       "        text-align: right;\n",
       "    }\n",
       "</style>\n",
       "<table border=\"1\" class=\"dataframe\">\n",
       "  <thead>\n",
       "    <tr style=\"text-align: right;\">\n",
       "      <th></th>\n",
       "      <th>bus_date</th>\n",
       "      <th>pos_venue_id</th>\n",
       "      <th>order_id</th>\n",
       "      <th>device_order_id</th>\n",
       "      <th>time_zone</th>\n",
       "      <th>order_local_time</th>\n",
       "      <th>sales_hr</th>\n",
       "      <th>ord_beg_time</th>\n",
       "      <th>ord_close_time</th>\n",
       "      <th>item_count</th>\n",
       "      <th>...</th>\n",
       "      <th>order_status_cd_FE</th>\n",
       "      <th>payment_type_FE</th>\n",
       "      <th>pos_terminal_id_FE</th>\n",
       "      <th>pos_venue_id_FE</th>\n",
       "      <th>vendor_id_FE</th>\n",
       "      <th>vendor_loc_id_FE</th>\n",
       "      <th>voucher_number_FE</th>\n",
       "      <th>SHAP_features</th>\n",
       "      <th>Detailed_features_with_values</th>\n",
       "      <th>fraud_category</th>\n",
       "    </tr>\n",
       "  </thead>\n",
       "  <tbody>\n",
       "    <tr>\n",
       "      <th>0</th>\n",
       "      <td>2023-12-07</td>\n",
       "      <td>1143</td>\n",
       "      <td>38247542</td>\n",
       "      <td>231207025000459</td>\n",
       "      <td>America/Chicago</td>\n",
       "      <td>2023-12-07 12:18:41</td>\n",
       "      <td>1</td>\n",
       "      <td>2023-12-07 18:18:41</td>\n",
       "      <td>2023-12-07 18:18:41</td>\n",
       "      <td>4</td>\n",
       "      <td>...</td>\n",
       "      <td>0.419614</td>\n",
       "      <td>0.168153</td>\n",
       "      <td>0.425172</td>\n",
       "      <td>0.063989</td>\n",
       "      <td>0.004108</td>\n",
       "      <td>0.000037</td>\n",
       "      <td>0.997984</td>\n",
       "      <td>FE_mean_reduction_amt_for_each_cust_prof_id_AG...</td>\n",
       "      <td>This transaction is predicted fraud with confi...</td>\n",
       "      <td>Reduction/Sub_total_Exceed Fraud</td>\n",
       "    </tr>\n",
       "    <tr>\n",
       "      <th>1</th>\n",
       "      <td>2023-12-05</td>\n",
       "      <td>1142</td>\n",
       "      <td>38098658</td>\n",
       "      <td>231205014000190</td>\n",
       "      <td>America/Chicago</td>\n",
       "      <td>2023-12-05 08:25:51</td>\n",
       "      <td>8</td>\n",
       "      <td>2023-12-05 14:25:51</td>\n",
       "      <td>2023-12-05 14:25:51</td>\n",
       "      <td>4</td>\n",
       "      <td>...</td>\n",
       "      <td>0.419614</td>\n",
       "      <td>0.168153</td>\n",
       "      <td>0.425172</td>\n",
       "      <td>0.047688</td>\n",
       "      <td>0.002365</td>\n",
       "      <td>0.000072</td>\n",
       "      <td>0.997984</td>\n",
       "      <td>FE_mean_reduction_amt_for_each_cust_prof_id_AG...</td>\n",
       "      <td>This transaction is predicted fraud with confi...</td>\n",
       "      <td>Reduction/Sub_total_Exceed Fraud</td>\n",
       "    </tr>\n",
       "    <tr>\n",
       "      <th>2</th>\n",
       "      <td>2023-12-06</td>\n",
       "      <td>1150</td>\n",
       "      <td>38204792</td>\n",
       "      <td>231207024000022</td>\n",
       "      <td>America/New_York</td>\n",
       "      <td>2023-12-06 19:29:37</td>\n",
       "      <td>1</td>\n",
       "      <td>2023-12-07 00:29:37</td>\n",
       "      <td>2023-12-07 00:29:37</td>\n",
       "      <td>2</td>\n",
       "      <td>...</td>\n",
       "      <td>0.419614</td>\n",
       "      <td>0.168153</td>\n",
       "      <td>0.425172</td>\n",
       "      <td>0.065778</td>\n",
       "      <td>0.004542</td>\n",
       "      <td>0.000086</td>\n",
       "      <td>0.997984</td>\n",
       "      <td>FE_mean_reduction_amt_for_each_cust_prof_id_AG...</td>\n",
       "      <td>This transaction is predicted fraud with confi...</td>\n",
       "      <td>Reduction/Sub_total_Exceed Fraud</td>\n",
       "    </tr>\n",
       "    <tr>\n",
       "      <th>3</th>\n",
       "      <td>2023-12-05</td>\n",
       "      <td>1142</td>\n",
       "      <td>38123716</td>\n",
       "      <td>231205031000467</td>\n",
       "      <td>America/Chicago</td>\n",
       "      <td>2023-12-05 15:19:25</td>\n",
       "      <td>1</td>\n",
       "      <td>2023-12-05 21:19:25</td>\n",
       "      <td>2023-12-05 21:19:25</td>\n",
       "      <td>2</td>\n",
       "      <td>...</td>\n",
       "      <td>0.419614</td>\n",
       "      <td>0.168153</td>\n",
       "      <td>0.425172</td>\n",
       "      <td>0.047688</td>\n",
       "      <td>0.002365</td>\n",
       "      <td>0.000042</td>\n",
       "      <td>0.997984</td>\n",
       "      <td>FE_mean_reduction_amt_for_each_cust_prof_id_AG...</td>\n",
       "      <td>This transaction is predicted fraud with confi...</td>\n",
       "      <td>Reduction/Sub_total_Exceed Fraud</td>\n",
       "    </tr>\n",
       "    <tr>\n",
       "      <th>4</th>\n",
       "      <td>2023-12-07</td>\n",
       "      <td>1142</td>\n",
       "      <td>38239052</td>\n",
       "      <td>231207012000392</td>\n",
       "      <td>America/Chicago</td>\n",
       "      <td>2023-12-07 10:27:42</td>\n",
       "      <td>1</td>\n",
       "      <td>2023-12-07 16:27:42</td>\n",
       "      <td>2023-12-07 16:27:42</td>\n",
       "      <td>2</td>\n",
       "      <td>...</td>\n",
       "      <td>0.419614</td>\n",
       "      <td>0.168153</td>\n",
       "      <td>0.425172</td>\n",
       "      <td>0.047688</td>\n",
       "      <td>0.004028</td>\n",
       "      <td>0.000012</td>\n",
       "      <td>0.997984</td>\n",
       "      <td>FE_mean_reduction_amt_for_each_cust_prof_id_AG...</td>\n",
       "      <td>This transaction is predicted fraud with confi...</td>\n",
       "      <td>Reduction/Sub_total_Exceed Fraud</td>\n",
       "    </tr>\n",
       "    <tr>\n",
       "      <th>...</th>\n",
       "      <td>...</td>\n",
       "      <td>...</td>\n",
       "      <td>...</td>\n",
       "      <td>...</td>\n",
       "      <td>...</td>\n",
       "      <td>...</td>\n",
       "      <td>...</td>\n",
       "      <td>...</td>\n",
       "      <td>...</td>\n",
       "      <td>...</td>\n",
       "      <td>...</td>\n",
       "      <td>...</td>\n",
       "      <td>...</td>\n",
       "      <td>...</td>\n",
       "      <td>...</td>\n",
       "      <td>...</td>\n",
       "      <td>...</td>\n",
       "      <td>...</td>\n",
       "      <td>...</td>\n",
       "      <td>...</td>\n",
       "      <td>...</td>\n",
       "    </tr>\n",
       "    <tr>\n",
       "      <th>1983</th>\n",
       "      <td>2023-12-05</td>\n",
       "      <td>1114</td>\n",
       "      <td>38124486</td>\n",
       "      <td>231205026000474</td>\n",
       "      <td>America/New_York</td>\n",
       "      <td>2023-12-05 16:26:11</td>\n",
       "      <td>1</td>\n",
       "      <td>2023-12-05 21:26:11</td>\n",
       "      <td>2023-12-05 21:26:11</td>\n",
       "      <td>1</td>\n",
       "      <td>...</td>\n",
       "      <td>0.419614</td>\n",
       "      <td>0.115086</td>\n",
       "      <td>0.425172</td>\n",
       "      <td>0.034979</td>\n",
       "      <td>0.011093</td>\n",
       "      <td>0.000077</td>\n",
       "      <td>0.997984</td>\n",
       "      <td>FE_cust_prof_id_voucher_number_ct_AG + FE_devi...</td>\n",
       "      <td>This transaction is predicted fraud with confi...</td>\n",
       "      <td>Voucher Fraud</td>\n",
       "    </tr>\n",
       "    <tr>\n",
       "      <th>1984</th>\n",
       "      <td>2023-12-03</td>\n",
       "      <td>1143</td>\n",
       "      <td>3800930901</td>\n",
       "      <td>231204015000082</td>\n",
       "      <td>America/Chicago</td>\n",
       "      <td>2023-12-03 19:48:17</td>\n",
       "      <td>1</td>\n",
       "      <td>2023-12-04 01:48:17</td>\n",
       "      <td>2023-12-04 01:48:17</td>\n",
       "      <td>1</td>\n",
       "      <td>...</td>\n",
       "      <td>0.574828</td>\n",
       "      <td>0.022195</td>\n",
       "      <td>0.425172</td>\n",
       "      <td>0.063989</td>\n",
       "      <td>0.003858</td>\n",
       "      <td>0.000087</td>\n",
       "      <td>0.997984</td>\n",
       "      <td>FE_cust_prof_id_bus_date_TB_FE + FE_tip_gt_50_...</td>\n",
       "      <td>This transaction is predicted fraud with confi...</td>\n",
       "      <td>No Fraud Category</td>\n",
       "    </tr>\n",
       "    <tr>\n",
       "      <th>1985</th>\n",
       "      <td>2023-12-03</td>\n",
       "      <td>1141</td>\n",
       "      <td>37957543</td>\n",
       "      <td>231203002000229</td>\n",
       "      <td>America/Chicago</td>\n",
       "      <td>2023-12-03 09:08:52</td>\n",
       "      <td>9</td>\n",
       "      <td>2023-12-03 15:08:53</td>\n",
       "      <td>2023-12-03 15:08:53</td>\n",
       "      <td>1</td>\n",
       "      <td>...</td>\n",
       "      <td>0.419614</td>\n",
       "      <td>0.643130</td>\n",
       "      <td>0.425172</td>\n",
       "      <td>0.043581</td>\n",
       "      <td>0.004405</td>\n",
       "      <td>0.000132</td>\n",
       "      <td>0.997984</td>\n",
       "      <td>FE_employee_role_id_reduction_cd_CB + FE_mean_...</td>\n",
       "      <td>This transaction is predicted fraud with confi...</td>\n",
       "      <td>Reduction Fraud</td>\n",
       "    </tr>\n",
       "    <tr>\n",
       "      <th>1986</th>\n",
       "      <td>2023-12-08</td>\n",
       "      <td>1141</td>\n",
       "      <td>38359397</td>\n",
       "      <td>231209011000033</td>\n",
       "      <td>America/Chicago</td>\n",
       "      <td>2023-12-08 18:24:41</td>\n",
       "      <td>1</td>\n",
       "      <td>2023-12-09 00:24:41</td>\n",
       "      <td>2023-12-09 00:24:41</td>\n",
       "      <td>3</td>\n",
       "      <td>...</td>\n",
       "      <td>0.419614</td>\n",
       "      <td>0.168153</td>\n",
       "      <td>0.425172</td>\n",
       "      <td>0.043581</td>\n",
       "      <td>0.005745</td>\n",
       "      <td>0.000109</td>\n",
       "      <td>0.997984</td>\n",
       "      <td>FE_employee_role_id_reduction_cd_CB + FE_mean_...</td>\n",
       "      <td>This transaction is predicted fraud with confi...</td>\n",
       "      <td>Reduction Fraud</td>\n",
       "    </tr>\n",
       "    <tr>\n",
       "      <th>1987</th>\n",
       "      <td>2023-12-08</td>\n",
       "      <td>1142</td>\n",
       "      <td>38358762</td>\n",
       "      <td>231209010000014</td>\n",
       "      <td>America/Chicago</td>\n",
       "      <td>2023-12-08 18:13:21</td>\n",
       "      <td>1</td>\n",
       "      <td>2023-12-09 00:13:21</td>\n",
       "      <td>2023-12-09 00:13:21</td>\n",
       "      <td>3</td>\n",
       "      <td>...</td>\n",
       "      <td>0.419614</td>\n",
       "      <td>0.643130</td>\n",
       "      <td>0.425172</td>\n",
       "      <td>0.047688</td>\n",
       "      <td>0.009327</td>\n",
       "      <td>0.000024</td>\n",
       "      <td>0.997984</td>\n",
       "      <td>FE_employee_role_id_reduction_cd_CB + FE_mean_...</td>\n",
       "      <td>This transaction is predicted fraud with confi...</td>\n",
       "      <td>Reduction Fraud</td>\n",
       "    </tr>\n",
       "  </tbody>\n",
       "</table>\n",
       "<p>1988 rows × 140 columns</p>\n",
       "</div>"
      ],
      "text/plain": [
       "        bus_date  pos_venue_id    order_id  device_order_id         time_zone  \\\n",
       "0     2023-12-07          1143    38247542  231207025000459   America/Chicago   \n",
       "1     2023-12-05          1142    38098658  231205014000190   America/Chicago   \n",
       "2     2023-12-06          1150    38204792  231207024000022  America/New_York   \n",
       "3     2023-12-05          1142    38123716  231205031000467   America/Chicago   \n",
       "4     2023-12-07          1142    38239052  231207012000392   America/Chicago   \n",
       "...          ...           ...         ...              ...               ...   \n",
       "1983  2023-12-05          1114    38124486  231205026000474  America/New_York   \n",
       "1984  2023-12-03          1143  3800930901  231204015000082   America/Chicago   \n",
       "1985  2023-12-03          1141    37957543  231203002000229   America/Chicago   \n",
       "1986  2023-12-08          1141    38359397  231209011000033   America/Chicago   \n",
       "1987  2023-12-08          1142    38358762  231209010000014   America/Chicago   \n",
       "\n",
       "         order_local_time  sales_hr         ord_beg_time       ord_close_time  \\\n",
       "0     2023-12-07 12:18:41         1  2023-12-07 18:18:41  2023-12-07 18:18:41   \n",
       "1     2023-12-05 08:25:51         8  2023-12-05 14:25:51  2023-12-05 14:25:51   \n",
       "2     2023-12-06 19:29:37         1  2023-12-07 00:29:37  2023-12-07 00:29:37   \n",
       "3     2023-12-05 15:19:25         1  2023-12-05 21:19:25  2023-12-05 21:19:25   \n",
       "4     2023-12-07 10:27:42         1  2023-12-07 16:27:42  2023-12-07 16:27:42   \n",
       "...                   ...       ...                  ...                  ...   \n",
       "1983  2023-12-05 16:26:11         1  2023-12-05 21:26:11  2023-12-05 21:26:11   \n",
       "1984  2023-12-03 19:48:17         1  2023-12-04 01:48:17  2023-12-04 01:48:17   \n",
       "1985  2023-12-03 09:08:52         9  2023-12-03 15:08:53  2023-12-03 15:08:53   \n",
       "1986  2023-12-08 18:24:41         1  2023-12-09 00:24:41  2023-12-09 00:24:41   \n",
       "1987  2023-12-08 18:13:21         1  2023-12-09 00:13:21  2023-12-09 00:13:21   \n",
       "\n",
       "      item_count  ...  order_status_cd_FE  payment_type_FE  \\\n",
       "0              4  ...            0.419614         0.168153   \n",
       "1              4  ...            0.419614         0.168153   \n",
       "2              2  ...            0.419614         0.168153   \n",
       "3              2  ...            0.419614         0.168153   \n",
       "4              2  ...            0.419614         0.168153   \n",
       "...          ...  ...                 ...              ...   \n",
       "1983           1  ...            0.419614         0.115086   \n",
       "1984           1  ...            0.574828         0.022195   \n",
       "1985           1  ...            0.419614         0.643130   \n",
       "1986           3  ...            0.419614         0.168153   \n",
       "1987           3  ...            0.419614         0.643130   \n",
       "\n",
       "      pos_terminal_id_FE  pos_venue_id_FE  vendor_id_FE  vendor_loc_id_FE  \\\n",
       "0               0.425172         0.063989      0.004108          0.000037   \n",
       "1               0.425172         0.047688      0.002365          0.000072   \n",
       "2               0.425172         0.065778      0.004542          0.000086   \n",
       "3               0.425172         0.047688      0.002365          0.000042   \n",
       "4               0.425172         0.047688      0.004028          0.000012   \n",
       "...                  ...              ...           ...               ...   \n",
       "1983            0.425172         0.034979      0.011093          0.000077   \n",
       "1984            0.425172         0.063989      0.003858          0.000087   \n",
       "1985            0.425172         0.043581      0.004405          0.000132   \n",
       "1986            0.425172         0.043581      0.005745          0.000109   \n",
       "1987            0.425172         0.047688      0.009327          0.000024   \n",
       "\n",
       "      voucher_number_FE                                      SHAP_features  \\\n",
       "0              0.997984  FE_mean_reduction_amt_for_each_cust_prof_id_AG...   \n",
       "1              0.997984  FE_mean_reduction_amt_for_each_cust_prof_id_AG...   \n",
       "2              0.997984  FE_mean_reduction_amt_for_each_cust_prof_id_AG...   \n",
       "3              0.997984  FE_mean_reduction_amt_for_each_cust_prof_id_AG...   \n",
       "4              0.997984  FE_mean_reduction_amt_for_each_cust_prof_id_AG...   \n",
       "...                 ...                                                ...   \n",
       "1983           0.997984  FE_cust_prof_id_voucher_number_ct_AG + FE_devi...   \n",
       "1984           0.997984  FE_cust_prof_id_bus_date_TB_FE + FE_tip_gt_50_...   \n",
       "1985           0.997984  FE_employee_role_id_reduction_cd_CB + FE_mean_...   \n",
       "1986           0.997984  FE_employee_role_id_reduction_cd_CB + FE_mean_...   \n",
       "1987           0.997984  FE_employee_role_id_reduction_cd_CB + FE_mean_...   \n",
       "\n",
       "                          Detailed_features_with_values  \\\n",
       "0     This transaction is predicted fraud with confi...   \n",
       "1     This transaction is predicted fraud with confi...   \n",
       "2     This transaction is predicted fraud with confi...   \n",
       "3     This transaction is predicted fraud with confi...   \n",
       "4     This transaction is predicted fraud with confi...   \n",
       "...                                                 ...   \n",
       "1983  This transaction is predicted fraud with confi...   \n",
       "1984  This transaction is predicted fraud with confi...   \n",
       "1985  This transaction is predicted fraud with confi...   \n",
       "1986  This transaction is predicted fraud with confi...   \n",
       "1987  This transaction is predicted fraud with confi...   \n",
       "\n",
       "                        fraud_category  \n",
       "0     Reduction/Sub_total_Exceed Fraud  \n",
       "1     Reduction/Sub_total_Exceed Fraud  \n",
       "2     Reduction/Sub_total_Exceed Fraud  \n",
       "3     Reduction/Sub_total_Exceed Fraud  \n",
       "4     Reduction/Sub_total_Exceed Fraud  \n",
       "...                                ...  \n",
       "1983                     Voucher Fraud  \n",
       "1984                 No Fraud Category  \n",
       "1985                   Reduction Fraud  \n",
       "1986                   Reduction Fraud  \n",
       "1987                   Reduction Fraud  \n",
       "\n",
       "[1988 rows x 140 columns]"
      ]
     },
     "execution_count": 17,
     "metadata": {},
     "output_type": "execute_result"
    }
   ],
   "source": [
    "test_data"
   ]
  }
 ],
 "metadata": {
  "kernelspec": {
   "display_name": "Python 3 (ipykernel)",
   "language": "python",
   "name": "python3"
  },
  "language_info": {
   "codemirror_mode": {
    "name": "ipython",
    "version": 3
   },
   "file_extension": ".py",
   "mimetype": "text/x-python",
   "name": "python",
   "nbconvert_exporter": "python",
   "pygments_lexer": "ipython3",
   "version": "3.10.14"
  }
 },
 "nbformat": 4,
 "nbformat_minor": 5
}
