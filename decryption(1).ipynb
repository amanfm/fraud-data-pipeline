{
 "cells": [
  {
   "cell_type": "code",
   "execution_count": 12,
   "id": "47d1f464-5ded-41eb-86fa-e338fef51660",
   "metadata": {},
   "outputs": [],
   "source": [
    "import boto3\n",
    "import logging\n",
    "import warnings\n",
    "import pandas as pd\n",
    "from sys import stderr"
   ]
  },
  {
   "cell_type": "code",
   "execution_count": 13,
   "id": "fda2c6bf-b1fc-4173-9765-26c9da51794b",
   "metadata": {},
   "outputs": [],
   "source": [
    "s3 = boto3.client('s3')\n",
    "warnings.filterwarnings(\"ignore\")\n",
    "logging.basicConfig(stream=stderr, level=\"INFO\")"
   ]
  },
  {
   "cell_type": "code",
   "execution_count": 13,
   "id": "c9c28062-fdb1-4e40-a44d-4e029378e2b0",
   "metadata": {},
   "outputs": [],
   "source": [
    "import os\n",
    "import boto3\n",
    "from io import BytesIO\n",
    "from cryptography.hazmat.primitives.ciphers.aead import AESGCM\n",
    "from io import BytesIO\n",
    "import json"
   ]
  },
  {
   "cell_type": "code",
   "execution_count": 34,
   "id": "7e4a60f1-01e2-4fb1-8334-caf0761ef64e",
   "metadata": {},
   "outputs": [],
   "source": [
    "\n",
    "def decrypt_existing_encrypted_file(s3_key, bucket_name, key, aad):\n",
    "    s3 = boto3.client('s3')\n",
    "\n",
    "    # Define the path to the existing info.json file\n",
    "    info_file_key = s3_key.replace('.csv', '_info.json')\n",
    "\n",
    "    # Retrieve the existing info.json file\n",
    "    try:\n",
    "        info_obj = s3.get_object(Bucket=bucket_name, Key=info_file_key)\n",
    "        info_data = json.loads(info_obj['Body'].read())\n",
    "        nonce = bytes.fromhex(info_data['nonce'])  # Convert hex nonce back to bytes\n",
    "        print(f\"Successfully retrieved nonce from {info_file_key}\")\n",
    "    except ClientError as e:\n",
    "        print(f\"Failed to retrieve info.json at {info_file_key}: {e}\")\n",
    "        return\n",
    "\n",
    "    # Fetch the encrypted file from S3\n",
    "    try:\n",
    "        encrypted_obj = s3.get_object(Bucket=bucket_name, Key=s3_key)\n",
    "        encrypted_content = encrypted_obj['Body'].read()\n",
    "    except ClientError as e:\n",
    "        print(f\"Failed to retrieve encrypted file at {s3_key}: {e}\")\n",
    "        return\n",
    "\n",
    "    # Decrypt the file content\n",
    "    aesgcm = AESGCM(key)\n",
    "    try:\n",
    "        decrypted_content = aesgcm.decrypt(nonce, encrypted_content, aad)\n",
    "        print(f\"Decryption successful for {s3_key}\")\n",
    "    except Exception as e:\n",
    "        print(f\"Decryption failed: {e}\")\n",
    "        return\n",
    "\n",
    "    # Save decrypted content to a temporary file path or handle it as needed\n",
    "    temp_file_path = f\"/tmp/{s3_key.split('/')[-1]}\"\n",
    "    with open(temp_file_path, 'wb') as f:\n",
    "        f.write(decrypted_content)\n",
    "    print(f\"Decrypted content saved to {temp_file_path}\")\n",
    "\n",
    "    # Return the path to the decrypted file\n",
    "    return temp_file_path"
   ]
  },
  {
   "cell_type": "code",
   "execution_count": 35,
   "id": "633cbaf4-84d1-4fe7-8e43-66a41fd8a01d",
   "metadata": {},
   "outputs": [],
   "source": [
    "bucket_name = 'otg-fraud-dataml-prod'\n",
    "s3_key = 'acm/daily/year=2024/month=10/day=29/20241030131824_acm_output.csv'\n",
    "key=b')\\xd9;_kp\\xd5\\x9dY\\xc6\\xb2UD\\xa4r\\xe1}\\xf3\\xb0+C\\xba\\xb4W\\xa1\\xc8\\x00m\\x94\\xe2y\\xc2'\n",
    "aad = b\"authenticated additional data\" "
   ]
  },
  {
   "cell_type": "code",
   "execution_count": 36,
   "id": "194af8a8-18fa-4ffd-a390-785fbea9e3a8",
   "metadata": {},
   "outputs": [
    {
     "name": "stdout",
     "output_type": "stream",
     "text": [
      "Successfully retrieved nonce from acm/daily/year=2024/month=10/day=29/20241030131824_acm_output_info.json\n",
      "Decryption successful for acm/daily/year=2024/month=10/day=29/20241030131824_acm_output.csv\n",
      "Decrypted content saved to /tmp/20241030131824_acm_output.csv\n"
     ]
    }
   ],
   "source": [
    "decrypted_file=decrypt_existing_encrypted_file(s3_key, bucket_name, key, aad)"
   ]
  },
  {
   "cell_type": "code",
   "execution_count": 26,
   "id": "51865de3-4e5e-4fc1-a493-7189c7fa91df",
   "metadata": {},
   "outputs": [],
   "source": [
    "date_part = s3_key.split('/') # ['2024', '10', '2']\n",
    "timestamp = date_part[-1].split('_')[0]\n",
    "# Extract year, month, and day from the file path\n",
    "date_part = s3_key.split('/')[-4:-1]  # ['2024', '10', '2']\n",
    "\n",
    "year, month, day = date_part[0], date_part[1], date_part[2]\n",
    "\n",
    "# Construct the S3 path\n",
    "s3_output_path = f\"s3://otg-fraud-dataml-prod/acm/daily/temporary/{year}/{month}/{day}/{timestamp}_acm_output.csv\""
   ]
  },
  {
   "cell_type": "code",
   "execution_count": 27,
   "id": "891bf47c-7235-433e-be97-592ef14884d0",
   "metadata": {},
   "outputs": [
    {
     "data": {
      "text/plain": [
       "'s3://otg-fraud-dataml-prod/acm/daily/temporary/year=2024/month=10/day=29/20241030131824_acm_output.csv'"
      ]
     },
     "execution_count": 27,
     "metadata": {},
     "output_type": "execute_result"
    }
   ],
   "source": [
    "s3_output_path"
   ]
  },
  {
   "cell_type": "code",
   "execution_count": null,
   "id": "03fa5d6c-cda2-414f-829b-cf52207def25",
   "metadata": {},
   "outputs": [],
   "source": []
  },
  {
   "cell_type": "code",
   "execution_count": 2,
   "id": "13b11de7",
   "metadata": {},
   "outputs": [],
   "source": [
    "import boto3\n",
    "import logging\n",
    "import warnings\n",
    "import pandas as pd\n",
    "from sys import stderr"
   ]
  },
  {
   "cell_type": "code",
   "execution_count": 3,
   "id": "272a71b2",
   "metadata": {},
   "outputs": [],
   "source": [
    "s3 = boto3.client('s3')\n",
    "warnings.filterwarnings(\"ignore\")\n",
    "logging.basicConfig(stream=stderr, level=\"INFO\")"
   ]
  },
  {
   "cell_type": "code",
   "execution_count": 13,
   "id": "ca9e443e",
   "metadata": {},
   "outputs": [],
   "source": [
    "import os\n",
    "import boto3\n",
    "from io import BytesIO\n",
    "from cryptography.hazmat.primitives.ciphers.aead import AESGCM\n",
    "from io import BytesIO\n",
    "import json"
   ]
  },
  {
   "cell_type": "code",
   "execution_count": 34,
   "id": "c5ef8e97",
   "metadata": {},
   "outputs": [],
   "source": [
    "\n",
    "def decrypt_existing_encrypted_file(s3_key, bucket_name, key, aad):\n",
    "    s3 = boto3.client('s3')\n",
    "\n",
    "    # Define the path to the existing info.json file\n",
    "    info_file_key = s3_key.replace('.csv', '_info.json')\n",
    "\n",
    "    # Retrieve the existing info.json file\n",
    "    try:\n",
    "        info_obj = s3.get_object(Bucket=bucket_name, Key=info_file_key)\n",
    "        info_data = json.loads(info_obj['Body'].read())\n",
    "        nonce = bytes.fromhex(info_data['nonce'])  # Convert hex nonce back to bytes\n",
    "        print(f\"Successfully retrieved nonce from {info_file_key}\")\n",
    "    except ClientError as e:\n",
    "        print(f\"Failed to retrieve info.json at {info_file_key}: {e}\")\n",
    "        return\n",
    "\n",
    "    # Fetch the encrypted file from S3\n",
    "    try:\n",
    "        encrypted_obj = s3.get_object(Bucket=bucket_name, Key=s3_key)\n",
    "        encrypted_content = encrypted_obj['Body'].read()\n",
    "    except ClientError as e:\n",
    "        print(f\"Failed to retrieve encrypted file at {s3_key}: {e}\")\n",
    "        return\n",
    "\n",
    "    # Decrypt the file content\n",
    "    aesgcm = AESGCM(key)\n",
    "    try:\n",
    "        decrypted_content = aesgcm.decrypt(nonce, encrypted_content, aad)\n",
    "        print(f\"Decryption successful for {s3_key}\")\n",
    "    except Exception as e:\n",
    "        print(f\"Decryption failed: {e}\")\n",
    "        return\n",
    "\n",
    "    # Save decrypted content to a temporary file path or handle it as needed\n",
    "    temp_file_path = f\"/tmp/{s3_key.split('/')[-1]}\"\n",
    "    with open(temp_file_path, 'wb') as f:\n",
    "        f.write(decrypted_content)\n",
    "    print(f\"Decrypted content saved to {temp_file_path}\")\n",
    "\n",
    "    # Return the path to the decrypted file\n",
    "    return temp_file_path"
   ]
  },
  {
   "cell_type": "code",
   "execution_count": 51,
   "id": "46c5a35c",
   "metadata": {},
   "outputs": [],
   "source": [
    "bucket_name = 'otg-fraud-dataml-prod'\n",
    "s3_path = 's3://otg-fraud-dataml-prod/acm/daily/year=2024/month=10/day=29/20241030131824_acm_output.csv'\n",
    "key=b')\\xd9;_kp\\xd5\\x9dY\\xc6\\xb2UD\\xa4r\\xe1}\\xf3\\xb0+C\\xba\\xb4W\\xa1\\xc8\\x00m\\x94\\xe2y\\xc2'\n",
    "aad = b\"authenticated additional data\" "
   ]
  },
  {
   "cell_type": "code",
   "execution_count": 52,
   "id": "0bcfda79",
   "metadata": {},
   "outputs": [
    {
     "name": "stdout",
     "output_type": "stream",
     "text": [
      "Successfully retrieved nonce from acm/daily/year=2024/month=10/day=29/20241030131824_acm_output_info.json\n",
      "Decryption successful for acm/daily/year=2024/month=10/day=29/20241030131824_acm_output.csv\n",
      "Decrypted content uploaded back to S3 at s3://otg-fraud-dataml-prod/acm/daily/temporary/year=2024/month=10/day=29/20241030131824_acm_output.csv\n"
     ]
    }
   ],
   "source": [
    "decrypted_file=decrypt_existing_encrypted_file(s3_path)"
   ]
  },
  {
   "cell_type": "code",
   "execution_count": 36,
   "id": "623b77d5-1ab5-48c1-be42-1fe456ead533",
   "metadata": {},
   "outputs": [
    {
     "name": "stdout",
     "output_type": "stream",
     "text": [
      "Successfully retrieved nonce from acm/daily/year=2024/month=10/day=29/20241030131824_acm_output_info.json\n",
      "Decryption successful for acm/daily/year=2024/month=10/day=29/20241030131824_acm_output.csv\n",
      "Decrypted content saved to /tmp/20241030131824_acm_output.csv\n"
     ]
    }
   ],
   "source": [
    "decrypted_file=decrypt_existing_encrypted_file(s3_key, bucket_name, key, aad)"
   ]
  },
  {
   "cell_type": "code",
   "execution_count": 26,
   "id": "0ac5de7d",
   "metadata": {},
   "outputs": [],
   "source": [
    "date_part = s3_key.split('/') # ['2024', '10', '2']\n",
    "timestamp = date_part[-1].split('_')[0]\n",
    "# Extract year, month, and day from the file path\n",
    "date_part = s3_key.split('/')[-4:-1]  # ['2024', '10', '2']\n",
    "\n",
    "year, month, day = date_part[0], date_part[1], date_part[2]\n",
    "\n",
    "# Construct the S3 path\n",
    "s3_output_path = f\"s3://otg-fraud-dataml-prod/acm/daily/temporary/{year}/{month}/{day}/{timestamp}_acm_output.csv\""
   ]
  },
  {
   "cell_type": "code",
   "execution_count": 27,
   "id": "5561cc47",
   "metadata": {},
   "outputs": [
    {
     "data": {
      "text/plain": [
       "'s3://otg-fraud-dataml-prod/acm/daily/temporary/year=2024/month=10/day=29/20241030131824_acm_output.csv'"
      ]
     },
     "execution_count": 27,
     "metadata": {},
     "output_type": "execute_result"
    }
   ],
   "source": [
    "s3_output_path"
   ]
  },
  {
   "cell_type": "code",
   "execution_count": 41,
   "id": "557af4c7",
   "metadata": {},
   "outputs": [],
   "source": [
    "def extract_s3_key(s3_value):\n",
    "    \"\"\"Extract the S3 key if the full S3 path is provided, otherwise assume it's already a key.\"\"\"\n",
    "    if s3_value.startswith('s3://'):\n",
    "        # Extract the key from the full S3 path\n",
    "        return '/'.join(s3_value.split('/')[3:])\n",
    "    else:\n",
    "        # It's already a key\n",
    "        return s3_value"
   ]
  },
  {
   "cell_type": "code",
   "execution_count": 38,
   "id": "7ba459c6-9f4e-4735-af0c-09518d034ec5",
   "metadata": {},
   "outputs": [
    {
     "data": {
      "text/plain": [
       "'acm/daily/temporary/year=2024/month=10/day=29/20241030131824_acm_output.csv'"
      ]
     },
     "execution_count": 38,
     "metadata": {},
     "output_type": "execute_result"
    }
   ],
   "source": [
    "extract_s3_key('s3://otg-fraud-dataml-prod/acm/daily/temporary/year=2024/month=10/day=29/20241030131824_acm_output.csv')"
   ]
  },
  {
   "cell_type": "code",
   "execution_count": 48,
   "id": "5f9f48f9-bf46-40a4-a9d4-b2621742dee5",
   "metadata": {},
   "outputs": [],
   "source": [
    "def decrypt_existing_encrypted_file(s3_path):\n",
    "    s3 = boto3.client('s3')\n",
    "    s3_key = extract_s3_key(s3_path)\n",
    "    info_file_key = s3_key.replace('.csv', '_info.json')\n",
    "\n",
    "    # Retrieve the existing info.json file\n",
    "    try:\n",
    "        info_obj = s3.get_object(Bucket=bucket_name, Key=info_file_key)\n",
    "        info_data = json.loads(info_obj['Body'].read())\n",
    "        nonce = bytes.fromhex(info_data['nonce'])  # Convert hex nonce back to bytes\n",
    "        print(f\"Successfully retrieved nonce from {info_file_key}\")\n",
    "    except ClientError as e:\n",
    "        print(f\"Failed to retrieve info.json at {info_file_key}: {e}\")\n",
    "        return\n",
    "\n",
    "    # Fetch the encrypted file from S3\n",
    "    try:\n",
    "        encrypted_obj = s3.get_object(Bucket=bucket_name, Key=s3_key)\n",
    "        encrypted_content = encrypted_obj['Body'].read()\n",
    "    except ClientError as e:\n",
    "        print(f\"Failed to retrieve encrypted file at {s3_key}: {e}\")\n",
    "        return\n",
    "\n",
    "    # Decrypt the file content\n",
    "    aesgcm = AESGCM(key)\n",
    "    try:\n",
    "        decrypted_content = aesgcm.decrypt(nonce, encrypted_content, aad)\n",
    "        print(f\"Decryption successful for {s3_key}\")\n",
    "    except Exception as e:\n",
    "        print(f\"Decryption failed: {e}\")\n",
    "        return\n",
    "        \n",
    "    date_part = s3_path.split('/') # ['2024', '10', '2']\n",
    "    timestamp = date_part[-1].split('_')[0]\n",
    "    # Extract year, month, and day from the file path\n",
    "    date_part = s3_path.split('/')[-4:-1]  # ['2024', '10', '2']\n",
    "    \n",
    "    year, month, day = date_part[0], date_part[1], date_part[2]\n",
    "    \n",
    "    # Construct the S3 path\n",
    "    s3_output_path = f\"s3://otg-fraud-dataml-prod/acm/daily/temporary/{year}/{month}/{day}/{timestamp}_acm_output.csv\"\n",
    "    # Upload the decrypted content back to S3\n",
    "    try:\n",
    "        s3.put_object(\n",
    "            Bucket=bucket_name,\n",
    "            Key=s3_output_path,  # Adjust the path if needed\n",
    "            Body=decrypted_content\n",
    "        )\n",
    "        print(f\"Decrypted content uploaded back to S3 at {s3_output_path}\")\n",
    "    except Exception as e:\n",
    "        print(f\"Failed to upload decrypted file: {e}\")\n"
   ]
  },
  {
   "cell_type": "code",
   "execution_count": null,
   "id": "8b507585-d5aa-4282-bd28-9609e11337a2",
   "metadata": {},
   "outputs": [],
   "source": []
  },
  {
   "cell_type": "code",
   "execution_count": 2,
   "id": "5944e128",
   "metadata": {},
   "outputs": [],
   "source": [
    "import boto3\n",
    "import logging\n",
    "import warnings\n",
    "import pandas as pd\n",
    "from sys import stderr"
   ]
  },
  {
   "cell_type": "code",
   "execution_count": 3,
   "id": "5380e17e",
   "metadata": {},
   "outputs": [],
   "source": [
    "s3 = boto3.client('s3')\n",
    "warnings.filterwarnings(\"ignore\")\n",
    "logging.basicConfig(stream=stderr, level=\"INFO\")"
   ]
  },
  {
   "cell_type": "code",
   "execution_count": 13,
   "id": "7a34dd4b",
   "metadata": {},
   "outputs": [],
   "source": [
    "import os\n",
    "import boto3\n",
    "from io import BytesIO\n",
    "from cryptography.hazmat.primitives.ciphers.aead import AESGCM\n",
    "from io import BytesIO\n",
    "import json"
   ]
  },
  {
   "cell_type": "code",
   "execution_count": 34,
   "id": "5e65d8cd",
   "metadata": {},
   "outputs": [],
   "source": [
    "\n",
    "def decrypt_existing_encrypted_file(s3_key, bucket_name, key, aad):\n",
    "    s3 = boto3.client('s3')\n",
    "\n",
    "    # Define the path to the existing info.json file\n",
    "    info_file_key = s3_key.replace('.csv', '_info.json')\n",
    "\n",
    "    # Retrieve the existing info.json file\n",
    "    try:\n",
    "        info_obj = s3.get_object(Bucket=bucket_name, Key=info_file_key)\n",
    "        info_data = json.loads(info_obj['Body'].read())\n",
    "        nonce = bytes.fromhex(info_data['nonce'])  # Convert hex nonce back to bytes\n",
    "        print(f\"Successfully retrieved nonce from {info_file_key}\")\n",
    "    except ClientError as e:\n",
    "        print(f\"Failed to retrieve info.json at {info_file_key}: {e}\")\n",
    "        return\n",
    "\n",
    "    # Fetch the encrypted file from S3\n",
    "    try:\n",
    "        encrypted_obj = s3.get_object(Bucket=bucket_name, Key=s3_key)\n",
    "        encrypted_content = encrypted_obj['Body'].read()\n",
    "    except ClientError as e:\n",
    "        print(f\"Failed to retrieve encrypted file at {s3_key}: {e}\")\n",
    "        return\n",
    "\n",
    "    # Decrypt the file content\n",
    "    aesgcm = AESGCM(key)\n",
    "    try:\n",
    "        decrypted_content = aesgcm.decrypt(nonce, encrypted_content, aad)\n",
    "        print(f\"Decryption successful for {s3_key}\")\n",
    "    except Exception as e:\n",
    "        print(f\"Decryption failed: {e}\")\n",
    "        return\n",
    "\n",
    "    # Save decrypted content to a temporary file path or handle it as needed\n",
    "    temp_file_path = f\"/tmp/{s3_key.split('/')[-1]}\"\n",
    "    with open(temp_file_path, 'wb') as f:\n",
    "        f.write(decrypted_content)\n",
    "    print(f\"Decrypted content saved to {temp_file_path}\")\n",
    "\n",
    "    # Return the path to the decrypted file\n",
    "    return temp_file_path"
   ]
  },
  {
   "cell_type": "code",
   "execution_count": 35,
   "id": "9bd20b61",
   "metadata": {},
   "outputs": [],
   "source": [
    "bucket_name = 'otg-fraud-dataml-prod'\n",
    "s3_key = 'acm/daily/year=2024/month=10/day=29/20241030131824_acm_output.csv'\n",
    "key=b')\\xd9;_kp\\xd5\\x9dY\\xc6\\xb2UD\\xa4r\\xe1}\\xf3\\xb0+C\\xba\\xb4W\\xa1\\xc8\\x00m\\x94\\xe2y\\xc2'\n",
    "aad = b\"authenticated additional data\" "
   ]
  },
  {
   "cell_type": "code",
   "execution_count": 36,
   "id": "6d79dc2d",
   "metadata": {},
   "outputs": [
    {
     "name": "stdout",
     "output_type": "stream",
     "text": [
      "Successfully retrieved nonce from acm/daily/year=2024/month=10/day=29/20241030131824_acm_output_info.json\n",
      "Decryption successful for acm/daily/year=2024/month=10/day=29/20241030131824_acm_output.csv\n",
      "Decrypted content saved to /tmp/20241030131824_acm_output.csv\n"
     ]
    }
   ],
   "source": [
    "decrypted_file=decrypt_existing_encrypted_file(s3_key, bucket_name, key, aad)"
   ]
  },
  {
   "cell_type": "code",
   "execution_count": 26,
   "id": "4ae44e82",
   "metadata": {},
   "outputs": [],
   "source": [
    "date_part = s3_key.split('/') # ['2024', '10', '2']\n",
    "timestamp = date_part[-1].split('_')[0]\n",
    "# Extract year, month, and day from the file path\n",
    "date_part = s3_key.split('/')[-4:-1]  # ['2024', '10', '2']\n",
    "\n",
    "year, month, day = date_part[0], date_part[1], date_part[2]\n",
    "\n",
    "# Construct the S3 path\n",
    "s3_output_path = f\"s3://otg-fraud-dataml-prod/acm/daily/temporary/{year}/{month}/{day}/{timestamp}_acm_output.csv\""
   ]
  },
  {
   "cell_type": "code",
   "execution_count": 27,
   "id": "91c0265b",
   "metadata": {},
   "outputs": [
    {
     "data": {
      "text/plain": [
       "'s3://otg-fraud-dataml-prod/acm/daily/temporary/year=2024/month=10/day=29/20241030131824_acm_output.csv'"
      ]
     },
     "execution_count": 27,
     "metadata": {},
     "output_type": "execute_result"
    }
   ],
   "source": [
    "s3_output_path"
   ]
  },
  {
   "cell_type": "code",
   "execution_count": null,
   "id": "a59dae79",
   "metadata": {},
   "outputs": [],
   "source": []
  },
  {
   "cell_type": "code",
   "execution_count": 2,
   "id": "de68983c",
   "metadata": {},
   "outputs": [],
   "source": [
    "import boto3\n",
    "import logging\n",
    "import warnings\n",
    "import pandas as pd\n",
    "from sys import stderr"
   ]
  },
  {
   "cell_type": "code",
   "execution_count": 3,
   "id": "bf7e28b9",
   "metadata": {},
   "outputs": [],
   "source": [
    "s3 = boto3.client('s3')\n",
    "warnings.filterwarnings(\"ignore\")\n",
    "logging.basicConfig(stream=stderr, level=\"INFO\")"
   ]
  },
  {
   "cell_type": "code",
   "execution_count": 13,
   "id": "00946050",
   "metadata": {},
   "outputs": [],
   "source": [
    "import os\n",
    "import boto3\n",
    "from io import BytesIO\n",
    "from cryptography.hazmat.primitives.ciphers.aead import AESGCM\n",
    "from io import BytesIO\n",
    "import json"
   ]
  },
  {
   "cell_type": "code",
   "execution_count": 34,
   "id": "0855e68b",
   "metadata": {},
   "outputs": [],
   "source": [
    "\n",
    "def decrypt_existing_encrypted_file(s3_key, bucket_name, key, aad):\n",
    "    s3 = boto3.client('s3')\n",
    "\n",
    "    # Define the path to the existing info.json file\n",
    "    info_file_key = s3_key.replace('.csv', '_info.json')\n",
    "\n",
    "    # Retrieve the existing info.json file\n",
    "    try:\n",
    "        info_obj = s3.get_object(Bucket=bucket_name, Key=info_file_key)\n",
    "        info_data = json.loads(info_obj['Body'].read())\n",
    "        nonce = bytes.fromhex(info_data['nonce'])  # Convert hex nonce back to bytes\n",
    "        print(f\"Successfully retrieved nonce from {info_file_key}\")\n",
    "    except ClientError as e:\n",
    "        print(f\"Failed to retrieve info.json at {info_file_key}: {e}\")\n",
    "        return\n",
    "\n",
    "    # Fetch the encrypted file from S3\n",
    "    try:\n",
    "        encrypted_obj = s3.get_object(Bucket=bucket_name, Key=s3_key)\n",
    "        encrypted_content = encrypted_obj['Body'].read()\n",
    "    except ClientError as e:\n",
    "        print(f\"Failed to retrieve encrypted file at {s3_key}: {e}\")\n",
    "        return\n",
    "\n",
    "    # Decrypt the file content\n",
    "    aesgcm = AESGCM(key)\n",
    "    try:\n",
    "        decrypted_content = aesgcm.decrypt(nonce, encrypted_content, aad)\n",
    "        print(f\"Decryption successful for {s3_key}\")\n",
    "    except Exception as e:\n",
    "        print(f\"Decryption failed: {e}\")\n",
    "        return\n",
    "\n",
    "    # Save decrypted content to a temporary file path or handle it as needed\n",
    "    temp_file_path = f\"/tmp/{s3_key.split('/')[-1]}\"\n",
    "    with open(temp_file_path, 'wb') as f:\n",
    "        f.write(decrypted_content)\n",
    "    print(f\"Decrypted content saved to {temp_file_path}\")\n",
    "\n",
    "    # Return the path to the decrypted file\n",
    "    return temp_file_path"
   ]
  },
  {
   "cell_type": "code",
   "execution_count": 51,
   "id": "4acfe622",
   "metadata": {},
   "outputs": [],
   "source": [
    "bucket_name = 'otg-fraud-dataml-prod'\n",
    "s3_path = 's3://otg-fraud-dataml-prod/acm/daily/year=2024/month=10/day=29/20241030131824_acm_output.csv'\n",
    "key=b')\\xd9;_kp\\xd5\\x9dY\\xc6\\xb2UD\\xa4r\\xe1}\\xf3\\xb0+C\\xba\\xb4W\\xa1\\xc8\\x00m\\x94\\xe2y\\xc2'\n",
    "aad = b\"authenticated additional data\" "
   ]
  },
  {
   "cell_type": "code",
   "execution_count": 52,
   "id": "fbcafbf8",
   "metadata": {},
   "outputs": [
    {
     "name": "stdout",
     "output_type": "stream",
     "text": [
      "Successfully retrieved nonce from acm/daily/year=2024/month=10/day=29/20241030131824_acm_output_info.json\n",
      "Decryption successful for acm/daily/year=2024/month=10/day=29/20241030131824_acm_output.csv\n",
      "Decrypted content uploaded back to S3 at s3://otg-fraud-dataml-prod/acm/daily/temporary/year=2024/month=10/day=29/20241030131824_acm_output.csv\n"
     ]
    }
   ],
   "source": [
    "decrypted_file=decrypt_existing_encrypted_file(s3_path)"
   ]
  },
  {
   "cell_type": "code",
   "execution_count": 36,
   "id": "70e6c66d",
   "metadata": {},
   "outputs": [
    {
     "name": "stdout",
     "output_type": "stream",
     "text": [
      "Successfully retrieved nonce from acm/daily/year=2024/month=10/day=29/20241030131824_acm_output_info.json\n",
      "Decryption successful for acm/daily/year=2024/month=10/day=29/20241030131824_acm_output.csv\n",
      "Decrypted content saved to /tmp/20241030131824_acm_output.csv\n"
     ]
    }
   ],
   "source": [
    "decrypted_file=decrypt_existing_encrypted_file(s3_key, bucket_name, key, aad)"
   ]
  },
  {
   "cell_type": "code",
   "execution_count": 26,
   "id": "02b626d0",
   "metadata": {},
   "outputs": [],
   "source": [
    "date_part = s3_key.split('/') # ['2024', '10', '2']\n",
    "timestamp = date_part[-1].split('_')[0]\n",
    "# Extract year, month, and day from the file path\n",
    "date_part = s3_key.split('/')[-4:-1]  # ['2024', '10', '2']\n",
    "\n",
    "year, month, day = date_part[0], date_part[1], date_part[2]\n",
    "\n",
    "# Construct the S3 path\n",
    "s3_output_path = f\"s3://otg-fraud-dataml-prod/acm/daily/temporary/{year}/{month}/{day}/{timestamp}_acm_output.csv\""
   ]
  },
  {
   "cell_type": "code",
   "execution_count": 53,
   "id": "196a49e5",
   "metadata": {},
   "outputs": [
    {
     "data": {
      "text/plain": [
       "'s3://otg-fraud-dataml-prod/acm/daily/temporary/year=2024/month=10/day=29/20241030131824_acm_output.csv'"
      ]
     },
     "execution_count": 53,
     "metadata": {},
     "output_type": "execute_result"
    }
   ],
   "source": [
    "s3_output_path"
   ]
  },
  {
   "cell_type": "code",
   "execution_count": 14,
   "id": "f51addd8",
   "metadata": {},
   "outputs": [],
   "source": [
    "def extract_s3_key(s3_value):\n",
    "    \"\"\"Extract the S3 key if the full S3 path is provided, otherwise assume it's already a key.\"\"\"\n",
    "    if s3_value.startswith('s3://'):\n",
    "        # Extract the key from the full S3 path\n",
    "        return '/'.join(s3_value.split('/')[3:])\n",
    "    else:\n",
    "        # It's already a key\n",
    "        return s3_value"
   ]
  },
  {
   "cell_type": "code",
   "execution_count": 38,
   "id": "53b68db8",
   "metadata": {},
   "outputs": [
    {
     "data": {
      "text/plain": [
       "'acm/daily/temporary/year=2024/month=10/day=29/20241030131824_acm_output.csv'"
      ]
     },
     "execution_count": 38,
     "metadata": {},
     "output_type": "execute_result"
    }
   ],
   "source": [
    "extract_s3_key('s3://otg-fraud-dataml-prod/acm/daily/temporary/year=2024/month=10/day=29/20241030131824_acm_output.csv')"
   ]
  },
  {
   "cell_type": "code",
   "execution_count": 48,
   "id": "49981914",
   "metadata": {},
   "outputs": [],
   "source": [
    "def decrypt_existing_encrypted_file(s3_path):\n",
    "    s3 = boto3.client('s3')\n",
    "    s3_key = extract_s3_key(s3_path)\n",
    "    info_file_key = s3_key.replace('.csv', '_info.json')\n",
    "\n",
    "    # Retrieve the existing info.json file\n",
    "    try:\n",
    "        info_obj = s3.get_object(Bucket=bucket_name, Key=info_file_key)\n",
    "        info_data = json.loads(info_obj['Body'].read())\n",
    "        nonce = bytes.fromhex(info_data['nonce'])  # Convert hex nonce back to bytes\n",
    "        print(f\"Successfully retrieved nonce from {info_file_key}\")\n",
    "    except ClientError as e:\n",
    "        print(f\"Failed to retrieve info.json at {info_file_key}: {e}\")\n",
    "        return\n",
    "\n",
    "    # Fetch the encrypted file from S3\n",
    "    try:\n",
    "        encrypted_obj = s3.get_object(Bucket=bucket_name, Key=s3_key)\n",
    "        encrypted_content = encrypted_obj['Body'].read()\n",
    "    except ClientError as e:\n",
    "        print(f\"Failed to retrieve encrypted file at {s3_key}: {e}\")\n",
    "        return\n",
    "\n",
    "    # Decrypt the file content\n",
    "    aesgcm = AESGCM(key)\n",
    "    try:\n",
    "        decrypted_content = aesgcm.decrypt(nonce, encrypted_content, aad)\n",
    "        print(f\"Decryption successful for {s3_key}\")\n",
    "    except Exception as e:\n",
    "        print(f\"Decryption failed: {e}\")\n",
    "        return\n",
    "        \n",
    "    date_part = s3_path.split('/') # ['2024', '10', '2']\n",
    "    timestamp = date_part[-1].split('_')[0]\n",
    "    # Extract year, month, and day from the file path\n",
    "    date_part = s3_path.split('/')[-4:-1]  # ['2024', '10', '2']\n",
    "    \n",
    "    year, month, day = date_part[0], date_part[1], date_part[2]\n",
    "    \n",
    "    # Construct the S3 path\n",
    "    s3_output_path = f\"s3://otg-fraud-dataml-prod/acm/daily/temporary/{year}/{month}/{day}/{timestamp}_acm_output.csv\"\n",
    "    # Upload the decrypted content back to S3\n",
    "    try:\n",
    "        s3.put_object(\n",
    "            Bucket=bucket_name,\n",
    "            Key=s3_output_path,  # Adjust the path if needed\n",
    "            Body=decrypted_content\n",
    "        )\n",
    "        print(f\"Decrypted content uploaded back to S3 at {s3_output_path}\")\n",
    "    except Exception as e:\n",
    "        print(f\"Failed to upload decrypted file: {e}\")\n"
   ]
  },
  {
   "cell_type": "code",
   "execution_count": 56,
   "id": "61d7deec",
   "metadata": {},
   "outputs": [
    {
     "name": "stdout",
     "output_type": "stream",
     "text": [
      "2024-11-17\n"
     ]
    }
   ],
   "source": [
    "from datetime import datetime\n",
    "\n",
    "# Original string with time and microseconds\n",
    "end_date = '2024-11-17 07:53:01.716069'\n",
    "\n",
    "# Convert to datetime object using the full format\n",
    "end_date_obj = datetime.strptime(end_date, '%Y-%m-%d %H:%M:%S.%f')\n",
    "\n",
    "# Format to just the date part\n",
    "end_date = end_date_obj.strftime('%Y-%m-%d')\n",
    "\n",
    "print(end_date)  # Output: '2024-11-17'\n"
   ]
  },
  {
   "cell_type": "code",
   "execution_count": 15,
   "id": "14282fe6-4e07-4565-aa9f-fae682fba958",
   "metadata": {},
   "outputs": [],
   "source": [
    " payment_paths = ['s3://otg-fraud-dataml-prod/temporary/v_payment_details/daily/year=2024/month=11/day=18/20241121132517_lacm_000.csv', 's3://otg-fraud-dataml-prod/temporary/v_payment_details/daily/year=2024/month=11/day=19/20241121132517_lacm_000.csv', 's3://otg-fraud-dataml-prod/temporary/v_payment_details/daily/year=2024/month=11/day=20/20241121132517_lacm_000.csv']"
   ]
  },
  {
   "cell_type": "code",
   "execution_count": 21,
   "id": "2901c786-c777-4eec-afa4-d3441a23bba4",
   "metadata": {},
   "outputs": [],
   "source": [
    "order_paths= ['s3://otg-fraud-dataml-prod/temporary/v_order_details/daily/year=2024/month=11/day=18/20241121132517_lacm_000.csv', 's3://otg-fraud-dataml-prod/temporary/v_order_details/daily/year=2024/month=11/day=19/20241121132517_lacm_000.csv', 's3://otg-fraud-dataml-prod/temporary/v_order_details/daily/year=2024/month=11/day=20/20241121132517_lacm_000.csv']"
   ]
  },
  {
   "cell_type": "code",
   "execution_count": 22,
   "id": "4b359c6d-2710-4278-a468-6de7d8891b26",
   "metadata": {},
   "outputs": [],
   "source": [
    "keys_path=payment_paths + order_paths"
   ]
  },
  {
   "cell_type": "code",
   "execution_count": 19,
   "id": "75c92517-ed98-4a6c-a926-f1dce4d12f59",
   "metadata": {},
   "outputs": [
    {
     "name": "stdout",
     "output_type": "stream",
     "text": [
      "['s3://otg-fraud-dataml-prod/temporary/v_payment_details/daily/year=2024/month=11/day=18/20241121132517_lacm_000.csv', 's3://otg-fraud-dataml-prod/temporary/v_payment_details/daily/year=2024/month=11/day=19/20241121132517_lacm_000.csv', 's3://otg-fraud-dataml-prod/temporary/v_payment_details/daily/year=2024/month=11/day=20/20241121132517_lacm_000.csv']\n",
      "s3_keys [None]\n"
     ]
    }
   ],
   "source": [
    "# Extract S3 keys from full paths or use them directly if they are keys\n",
    "s3_keys = [print(path) for path in keys_path]\n",
    "print(\"s3_keys\",s3_keys)"
   ]
  },
  {
   "cell_type": "code",
   "execution_count": 23,
   "id": "6f0f4ec5-644f-4981-ad60-689e7eb0d5ea",
   "metadata": {},
   "outputs": [
    {
     "data": {
      "text/plain": [
       "['s3://otg-fraud-dataml-prod/temporary/v_payment_details/daily/year=2024/month=11/day=18/20241121132517_lacm_000.csv',\n",
       " 's3://otg-fraud-dataml-prod/temporary/v_payment_details/daily/year=2024/month=11/day=19/20241121132517_lacm_000.csv',\n",
       " 's3://otg-fraud-dataml-prod/temporary/v_payment_details/daily/year=2024/month=11/day=20/20241121132517_lacm_000.csv',\n",
       " 's3://otg-fraud-dataml-prod/temporary/v_order_details/daily/year=2024/month=11/day=18/20241121132517_lacm_000.csv',\n",
       " 's3://otg-fraud-dataml-prod/temporary/v_order_details/daily/year=2024/month=11/day=19/20241121132517_lacm_000.csv',\n",
       " 's3://otg-fraud-dataml-prod/temporary/v_order_details/daily/year=2024/month=11/day=20/20241121132517_lacm_000.csv']"
      ]
     },
     "execution_count": 23,
     "metadata": {},
     "output_type": "execute_result"
    }
   ],
   "source": [
    "keys_path"
   ]
  },
  {
   "cell_type": "code",
   "execution_count": null,
   "id": "881c15f3-6a5d-4227-ac69-52bbe7dc1dc0",
   "metadata": {},
   "outputs": [],
   "source": []
  }
 ],
 "metadata": {
  "kernelspec": {
   "display_name": "Python 3 (ipykernel)",
   "language": "python",
   "name": "python3"
  },
  "language_info": {
   "codemirror_mode": {
    "name": "ipython",
    "version": 3
   },
   "file_extension": ".py",
   "mimetype": "text/x-python",
   "name": "python",
   "nbconvert_exporter": "python",
   "pygments_lexer": "ipython3",
   "version": "3.10.14"
  }
 },
 "nbformat": 4,
 "nbformat_minor": 5
}
